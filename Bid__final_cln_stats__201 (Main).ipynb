{
  "nbformat": 4,
  "nbformat_minor": 0,
  "metadata": {
    "colab": {
      "name": "Bid__final_cln_stats__201.ipynb",
      "provenance": []
    },
    "kernelspec": {
      "name": "python3",
      "display_name": "Python 3"
    },
    "language_info": {
      "name": "python"
    }
  },
  "cells": [
    {
      "cell_type": "code",
      "execution_count": 3,
      "metadata": {
        "id": "PjcIKiwgMVMO"
      },
      "outputs": [],
      "source": [
        "import pandas as pd \n",
        "import re \n",
        "\n"
      ]
    },
    {
      "cell_type": "code",
      "source": [
        "df_A = pd.read_csv('/content/sample_data/Bid_Advisor_TASK_Dataset(750).csv')\n",
        "\n",
        "#print(df_A.to_string()) \n",
        "#print(df_A['extracted_content'][18])"
      ],
      "metadata": {
        "id": "OJuNjezjPAMz"
      },
      "execution_count": 4,
      "outputs": []
    },
    {
      "cell_type": "code",
      "source": [
        "df_A[['extracted_content', 'description', 'title', 'bid_id', 'deadline_sents', 'non_deadline_sents']] = df_A[['extracted_content', 'description', 'title', 'bid_id', 'deadline_sents', 'non_deadline_sents']].astype(str)\n",
        "\n",
        "\n",
        "\n",
        "df_A[['is_deadline_date', 'deadline_sent_start', 'deadline_sent_end', 'non_deadline_sentS_startS', 'non_deadline_sentS_endS' ]] = df_A[['is_deadline_date', 'deadline_sent_start', 'deadline_sent_end', 'non_deadline_sentS_startS', 'non_deadline_sentS_endS' ]].astype(str)\n",
        "\n"
      ],
      "metadata": {
        "id": "U5sMlql6Nxg0"
      },
      "execution_count": 5,
      "outputs": []
    },
    {
      "cell_type": "code",
      "source": [
        "print( df_A.dtypes )"
      ],
      "metadata": {
        "colab": {
          "base_uri": "https://localhost:8080/"
        },
        "id": "Z32rnnKFjaHl",
        "outputId": "23e35bfa-3e95-4fff-9015-50fe9057db86"
      },
      "execution_count": 6,
      "outputs": [
        {
          "output_type": "stream",
          "name": "stdout",
          "text": [
            "Unnamed: 0                                                   int64\n",
            "extracted_content                                           object\n",
            "description                                                 object\n",
            "title                                                       object\n",
            "bid_id                                                      object\n",
            "is_deadline_date                                            object\n",
            "deadline_sents                                              object\n",
            "deadline_sent_start                                         object\n",
            "deadline_sent_end                                           object\n",
            "deadline_sents_pos(in_sent: N, in_table: T, in_othrs: O)    object\n",
            "non_deadline_sents                                          object\n",
            "non_deadline_sentS_startS                                   object\n",
            "non_deadline_sentS_endS                                     object\n",
            "dtype: object\n"
          ]
        }
      ]
    },
    {
      "cell_type": "code",
      "source": [
        "'''\n",
        "import string\n",
        "\n",
        "text =str(r\"\"\" \"\"\")\n",
        "# create function for punctuation removal:\n",
        "def remove_escapes_wsp(text):\n",
        "    text =str(r\"\"\" \"\"\")\n",
        "    for char in string.punctuation:\n",
        "        text = text.replace(char, '')\n",
        "    return text\n",
        "'''"
      ],
      "metadata": {
        "id": "Zd8CeJYXfHmP",
        "colab": {
          "base_uri": "https://localhost:8080/",
          "height": 54
        },
        "outputId": "06744f2c-a2ff-4953-dcb2-6b2f5f30524a"
      },
      "execution_count": 7,
      "outputs": [
        {
          "output_type": "execute_result",
          "data": {
            "text/plain": [
              "'\\nimport string\\n\\ntext =str(r\"\"\" \"\"\")\\n# create function for punctuation removal:\\ndef remove_escapes_wsp(text):\\n    text =str(r\"\"\" \"\"\")\\n    for char in string.punctuation:\\n        text = text.replace(char, \\'\\')\\n    return text\\n'"
            ],
            "application/vnd.google.colaboratory.intrinsic+json": {
              "type": "string"
            }
          },
          "metadata": {},
          "execution_count": 7
        }
      ]
    },
    {
      "cell_type": "code",
      "source": [
        "df_A['extracted_content'] = df_A['extracted_content'].str.replace(\"\"\"\\n\"\"\",\"\"\" \"\"\")\n",
        "df_A['extracted_content'] = df_A['extracted_content'].str.replace(\"\"\" +\"\"\", \"\"\" \"\"\")\n",
        "\n",
        "df_A['description'] = df_A['description'].str.replace(\"\"\"\\n\"\"\",\"\"\" \"\"\")\n",
        "df_A['description'] = df_A['description'].str.replace(\"\"\" +\"\"\", \"\"\" \"\"\")\n",
        "\n",
        "df_A['title'] = df_A['title'].str.replace(\"\"\"\\n\"\"\",\"\"\" \"\"\")\n",
        "df_A['title'] = df_A['title'].str.replace(\"\"\" +\"\"\", \"\"\" \"\"\")\n",
        "\n",
        "\n",
        "df_A['bid_id'] = df_A['bid_id'].str.replace(\"\"\"\\n\"\"\",\"\"\" \"\"\")\n",
        "df_A['bid_id'] = df_A['bid_id'].str.replace(\"\"\" +\"\"\", \"\"\" \"\"\")\n",
        "\n",
        "\n",
        "df_A['deadline_sents'] = df_A['deadline_sents'].str.replace(\"\"\"\\n\"\"\",\"\"\" \"\"\")\n",
        "df_A['deadline_sents'] = df_A['deadline_sents'].str.replace(\"\"\" +\"\"\", \"\"\" \"\"\")\n",
        "\n",
        "df_A['non_deadline_sents'] = df_A['non_deadline_sents'].str.replace(\"\"\"\\n\"\"\",\"\"\" \"\"\")\n",
        "df_A['non_deadline_sents'] = df_A['non_deadline_sents'].str.replace(\"\"\" +\"\"\", \"\"\" \"\"\")"
      ],
      "metadata": {
        "colab": {
          "base_uri": "https://localhost:8080/"
        },
        "id": "pfnJc-5mia6t",
        "outputId": "37123c64-fd88-4e77-bed0-1f7a5483e213"
      },
      "execution_count": 8,
      "outputs": [
        {
          "output_type": "stream",
          "name": "stderr",
          "text": [
            "/usr/local/lib/python3.7/dist-packages/ipykernel_launcher.py:2: FutureWarning: The default value of regex will change from True to False in a future version.\n",
            "  \n",
            "/usr/local/lib/python3.7/dist-packages/ipykernel_launcher.py:5: FutureWarning: The default value of regex will change from True to False in a future version.\n",
            "  \"\"\"\n",
            "/usr/local/lib/python3.7/dist-packages/ipykernel_launcher.py:8: FutureWarning: The default value of regex will change from True to False in a future version.\n",
            "  \n",
            "/usr/local/lib/python3.7/dist-packages/ipykernel_launcher.py:12: FutureWarning: The default value of regex will change from True to False in a future version.\n",
            "  if sys.path[0] == '':\n",
            "/usr/local/lib/python3.7/dist-packages/ipykernel_launcher.py:16: FutureWarning: The default value of regex will change from True to False in a future version.\n",
            "  app.launch_new_instance()\n",
            "/usr/local/lib/python3.7/dist-packages/ipykernel_launcher.py:19: FutureWarning: The default value of regex will change from True to False in a future version.\n"
          ]
        }
      ]
    },
    {
      "cell_type": "code",
      "source": [
        "print(df_A['extracted_content'][20])"
      ],
      "metadata": {
        "colab": {
          "base_uri": "https://localhost:8080/"
        },
        "id": "DrpnbU9hjJZc",
        "outputId": "9aaba915-4216-48c5-a972-d0223afe33bf"
      },
      "execution_count": 9,
      "outputs": [
        {
          "output_type": "stream",
          "name": "stdout",
          "text": [
            "Reference List (Optional for current TDDSO contractors) Name: Address: Business Type: Contact Person: Title: Telephone: Name: Address: Business Type: Contact Person: Title: Telephone: Name: Address: Business Type: Contact Person: Title: Telephone: Name: Address: Business Type: Contact Person: Title: Telephone: Name: Address: Business Type: Contact Person: Title: Telephone: Name: Address: Business Type: Contact Person: Title: Telephone: AC 3290-S (Rev. 7/12) NEW YORK STATE VENDOR RESPONSIBILITY QUESTIONNAIRE FOR-PROFIT BUSINESS ENTITY You have selected the For-Profit Non-Construction questionnaire which may be printed and completed in this format or, for your convenience, may be completed online using the New York State VendRep System. COMPLETION & CERTIFICATION The person(s) completing the questionnaire must be knowledgeable about the vendor’s business and operations. An owner or officer must certify the questionnaire and the signature must be notarized. NEW YORK STATE VENDOR IDENTIFICATION NUMBER (VENDOR ID) The Vendor ID is a ten-digit identifier issued by New York State when the vendor is registered on the Statewide Vendor File. This number must now be included on the questionnaire. If the business entity has not obtained a Vendor ID, contact the OSC Help Desk at ciohelpdesk@osc.state.ny.us or call 866-370-4672. DEFINITIONS All underlined terms are defined in the “New York State Vendor Responsibility Definitions List,” found at www.osc.state.ny.us/vendrep/documents/questionnaire/definitions.pdf. These terms may not have their ordinary, common or traditional meanings. Each vendor is strongly encouraged to read the respective definitions for any and all underlined terms. By submitting this questionnaire, the vendor agrees to be bound by the terms as defined in the \"New York State Vendor Responsibility Definitions List\" existing at the time of certification. RESPONSES Every question must be answered. Each response must provide all relevant information which can be obtained within the limits of the law. However, information regarding a determination or finding made in error which was subsequently corrected is not required. Individuals and Sole Proprietors may use a Social Security Number but are encouraged to obtain and use a federal Employer Identification Number (EIN). REPORTING ENTITY Each vendor must indicate if the questionnaire is filed on behalf of the entire Legal Business Entity or an Organizational Unit within or operating under the authority of the Legal Business Entity and having the same EIN. Generally, the Organizational Unit option may be appropriate for a vendor that meets the definition of “Reporting Entity” but due to the size and complexity of the Legal Business Entity, is best able to provide the required information for the Organizational Unit, while providing more limited information for other parts of the Legal Business Entity and Associated Entities. ASSOCIATED ENTITY An Associated Entity is one that owns or controls the Reporting Entity or any entity owned or controlled by the Reporting Entity. However, the term Associated Entity does not include “sibling organizations” (i.e., entities owned or controlled by a parent company that owns or controls the Reporting Entity), unless such sibling entity has a direct relationship with or impact on the Reporting Entity. STRUCTURE OF THE QUESTIONNAIRE The questionnaire is organized into eleven sections. Section I is to be completed for the Legal Business Entity. Section II requires the vendor to specify the Reporting Entity for the questionnaire. Section III refers to the individuals of the Reporting Entity, while Sections IV-VIII require information about the Reporting Entity. Section IX pertains to any Associated Entities, with one question about their Officials/Owners. Section X relates to disclosure under the Freedom of Information Law (FOIL). Section XI requires an authorized contact for the questionnaire information. AC 3290-S (Rev. 7/12) NYS Vendor ID: 000000000 NEW YORK STATE VENDOR RESPONSIBILITY QUESTIONNAIRE FOR-PROFIT BUSINESS ENTITY Page 2 of 10 I. LEGAL BUSINESS ENTITY INFORMATION Legal Business Entity Name* EIN (Enter 9 digits, without hyphen) Address of the Principal Place of Business (street, city, state, zip code) New York State Vendor Identification Number Telephone ext. Fax Email Website Additional Legal Business Entity Identities: If applicable, list any other DBA, Trade Name, Former Name, Other Identity, or EIN used in the last five (5) years and the status (active or inactive). Type Name EIN Status 1.0 Legal Business Entity Type – Check appropriate box and provide additional information: Corporation (including PC) Date of Incorporation Limited Liability Company (LLC or PLLC) Date of Organization Partnership (including LLP, LP or General) Date of Registration or Establishment Sole Proprietor How many years in business? Other Date Established If Other, explain: 1.1 Was the Legal Business Entity formed or incorporated in New York State? Yes No If ‘No,’ indicate jurisdiction where Legal Business Entity was formed or incorporated and attach a Certificate of Good Standing from the applicable jurisdiction or provide an explanation if a Certificate of Good Standing is not available. United States State Other Country Explain, if not available: 1.2 Is the Legal Business Entity publicly traded? Yes No If “Yes,” provide CIK Code or Ticker Symbol 1.3 Does the Legal Business Entity have a DUNS Number? Yes No If “Yes,” Enter DUNS Number *All underlined terms are defined in the “New York State Vendor Responsibility Definitions List,” which can be found at www.osc.state.ny.us/vendrep/documents/questionnaire/definitions.pdf. AC 3290-S (Rev. 7/12) NYS Vendor ID: 000000000 NEW YORK STATE VENDOR RESPONSIBILITY QUESTIONNAIRE FOR-PROFIT BUSINESS ENTITY Page 3 of 10 I. LEGAL BUSINESS ENTITY INFORMATION 1.4 If the Legal Business Entity’s Principal Place of Business is not in New York State, does the Legal Business Entity maintain an office in New York State? (Select “N/A,” if Principal Place of Business is in New York State.) Yes No N/A If “Yes,” provide the address and telephone number for one office located in New York State. 1.5 Is the Legal Business Entity a New York State certified Minority-Owned Business Enterprise (MBE), Women-Owned Business Enterprise (WBE), New York State Small Business (SB) or a federally certified Disadvantaged Business Enterprise (DBE)? If “Yes,” check all that apply: New York State certified Minority-Owned Business Enterprise (MBE) New York State certified Women-Owned Business Enterprise (WBE) New York State Small Business (SB) Federally certified Disadvantaged Business Enterprise (DBE) Yes No 1.6 Identify Officials and Principal Owners, if applicable. For each person, include name, title and percentage of ownership. Attach additional pages if necessary. If applicable, reference to relevant SEC filing(s) containing the required information is optional. Name Title Percentage Ownership (Enter 0% if not applicable) AC 3290-S (Rev. 7/12) NYS Vendor ID: 000000000 NEW YORK STATE VENDOR RESPONSIBILITY QUESTIONNAIRE FOR-PROFIT BUSINESS ENTITY Page 4 of 10 II. REPORTING ENTITY INFORMATION 2.0 The Reporting Entity for this questionnaire is: Note: Select only one. Legal Business Entity Note: If selecting this option, “Reporting Entity” refers to the entire Legal Business Entity for the remainder of the questionnaire. (SKIP THE REMAINDER OF SECTION II AND PROCEED WITH SECTION III.) Organizational Unit within and operating under the authority of the Legal Business Entity SEE DEFINITIONS OF “REPORTING ENTITY” AND “ORGANIZATIONAL UNIT” FOR ADDITIONAL INFORMATION ON CRITERIA TO QUALIFY FOR THIS SELECTION. Note: If selecting this option, “Reporting Entity” refers to the Organizational Unit within the Legal Business Entity for the remainder of the questionnaire. (COMPLETE THE REMAINDER OF SECTION II AND ALL REMAINING SECTIONS OF THIS QUESTIONNAIRE.) IDENTIFYING INFORMATION a) Reporting Entity Name Address of the Primary Place of Business (street, city, state, zip code) Telephone ext. b) Describe the relationship of the Reporting Entity to the Legal Business Entity c) Attach an organizational chart d) Does the Reporting Entity have a DUNS Number? Yes No If “Yes,” enter DUNS Number e) Identify the designated manager(s) responsible for the business of the Reporting Entity. For each person, include name and title. Attach additional pages if necessary. Name Title AC 3290-S (Rev. 7/12) NYS Vendor ID: 000000000 NEW YORK STATE VENDOR RESPONSIBILITY QUESTIONNAIRE FOR-PROFIT BUSINESS ENTITY Page 5 of 10 INSTRUCTIONS FOR SECTIONS III THROUGH VII For each “Yes,” provide an explanation of the issue(s), relevant dates, the government entity involved, any remedial or corrective action(s) taken and the current status of the issue(s). For each “Other,” provide an explanation which provides the basis for not definitively responding “Yes” or “No.” Provide the explanation at the end of the section or attach additional sheets with numbered responses, including the Reporting Entity name at the top of any attached pages. III. LEADERSHIP INTEGRITY Within the past five (5) years, has any current or former reporting entity official or any individual currently or formerly having the authority to sign, execute or approve bids, proposals, contracts or supporting documentation on behalf of the reporting entity with any government entity been: 3.0 Sanctioned relative to any business or professional permit and/or license? Yes No Other 3.1 Suspended, debarred, or disqualified from any government contracting process? Yes No Other 3.2 The subject of an investigation, whether open or closed, by any government entity for a civil or criminal violation for any business-related conduct? Yes No Other 3.3 Charged with a misdemeanor or felony, indicted, granted immunity, convicted of a crime or subject to a judgment for: a) Any business-related activity; or b) Any crime, whether or not business-related, the underlying conduct of which was related to truthfulness? Yes No Other For each “Yes” or “Other” explain: IV. INTEGRITY – CONTRACT BIDDING Within the past five (5) years, has the reporting entity: 4.0 Been suspended or debarred from any government contracting process or been disqualified on any government procurement, permit, license, concession, franchise or lease, including, but not limited to, debarment for a violation of New York State Workers’ Compensation or Prevailing Wage laws or New York State Procurement Lobbying Law? Yes No 4.1 Been subject to a denial or revocation of a government prequalification? Yes No 4.2 Been denied a contract award or had a bid rejected based upon a non-responsibility finding by a government entity? Yes No 4.3 Had a low bid rejected on a government contract for failure to make good faith efforts on any Minority- Owned Business Enterprise, Women-Owned Business Enterprise or Disadvantaged Business Enterprise goal or statutory affirmative action requirements on a previously held contract? Yes No 4.4 Agreed to a voluntary exclusion from bidding/contracting with a government entity? Yes No 4.5 Initiated a request to withdraw a bid submitted to a government entity in lieu of responding to an information request or subsequent to a formal request to appear before the government entity? Yes No For each “Yes,” explain: AC 3290-S (Rev. 7/12) NYS Vendor ID: 000000000 NEW YORK STATE VENDOR RESPONSIBILITY QUESTIONNAIRE FOR-PROFIT BUSINESS ENTITY Page 6 of 10 V. INTEGRITY – CONTRACT AWARD Within the past five (5) years, has the reporting entity: 5.0 Been suspended, cancelled or terminated for cause on any government contract including, but not limited to, a non-responsibility finding? Yes No 5.1 Been subject to an administrative proceeding or civil action seeking specific performance or restitution in connection with any government contract? Yes No 5.2 Entered into a formal monitoring agreement as a condition of a contract award from a government entity? Yes No For each “Yes,” explain: VI. CERTIFICATIONS/LICENSES Within the past five (5) years, has the reporting entity: 6.0 Had a revocation, suspension or disbarment of any business or professional permit and/or license? Yes No 6.1 Had a denial, decertification, revocation or forfeiture of New York State certification of Minority-Owned Business Enterprise, Women-Owned Business Enterprise or federal certification of Disadvantaged Business Enterprise status for other than a change of ownership? Yes No For each “Yes,” explain: VII. LEGAL PROCEEDINGS Within the past five (5) years, has the reporting entity: 7.0 Been the subject of an investigation, whether open or closed, by any government entity for a civil or criminal violation? Yes No 7.1 Been the subject of an indictment, grant of immunity, judgment or conviction (including entering into a plea bargain) for conduct constituting a crime? Yes No 7.2 Received any OSHA citation and Notification of Penalty containing a violation classified as serious or willful? Yes No 7.3 Had a government entity find a willful prevailing wage or supplemental payment violation or any other willful violation of New York State Labor Law? Yes No 7.4 Entered into a consent order with the New York State Department of Environmental Conservation, or received an enforcement determination by any government entity involving a violation of federal, state or local environmental laws? Yes No 7.5 Other than previously disclosed: a) Been subject to fines or penalties imposed by government entities which in the aggregate total $25,000 or more; or b) Been convicted of a criminal offense pursuant to any administrative and/or regulatory action taken by any government entity? Yes No For each “Yes,” explain: AC 3290-S (Rev. 7/12) NYS Vendor ID: 000000000 NEW YORK STATE VENDOR RESPONSIBILITY QUESTIONNAIRE FOR-PROFIT BUSINESS ENTITY Page 7 of 10 VIII. FINANCIAL AND ORGANIZATIONAL CAPACITY 8.0 Within the past five (5) years, has the Reporting Entity received any formal unsatisfactory performance assessment(s) from any government entity on any contract? Yes No If “Yes,” provide an explanation of the issue(s), relevant dates, the government entity involved, any remedial or corrective action(s) taken and the current status of the issue(s). Provide answer below or attach additional sheets with numbered responses. 8.1 Within the past five (5) years, has the Reporting Entity had any liquidated damages assessed over $25,000? Yes No If “Yes,” provide an explanation of the issue(s), relevant dates, contracting party involved, the amount assessed and the current status of the issue(s). Provide answer below or attach additional sheets with numbered responses. 8.2 Within the past five (5) years, have any liens or judgments (not including UCC filings) over $25,000 been filed against the Reporting Entity which remain undischarged? Yes No If “Yes,” provide an explanation of the issue(s), relevant dates, the Lien holder or Claimant’s name(s), the amount of the lien(s) and the current status of the issue(s). Provide answer below or attach additional sheets with numbered responses. 8.3 In the last seven (7) years, has the Reporting Entity initiated or been the subject of any bankruptcy proceedings, whether or not closed, or is any bankruptcy proceeding pending? Yes No If “Yes,” provide the bankruptcy chapter number, the court name and the docket number. Indicate the current status of the proceedings as “Initiated,” “Pending” or “Closed.” Provide answer below or attach additional sheets with numbered responses. 8.4 During the past three (3) years, has the Reporting Entity failed to file or pay any tax returns required by federal, state or local tax laws? Yes No If “Yes,” provide the taxing jurisdiction, the type of tax, the liability year(s), the tax liability amount the Reporting Entity failed to file/pay and the current status of the tax liability. Provide answer below or attach additional sheets with numbered responses. 8.5 During the past three (3) years, has the Reporting Entity failed to file or pay any New York State unemployment insurance returns? Yes No If “Yes,” provide the years the Reporting Entity failed to file/pay the insurance, explain the situation and any remedial or corrective action(s) taken and the current status of the issue(s). Provide answer below or attach additional sheets with numbered responses. 8.6 During the past three (3) years, has the Reporting Entity had any government audit(s) completed? Yes No a) If “Yes,” did any audit of the Reporting Entity identify any reported significant deficiencies in internal control, fraud, illegal acts, significant violations of provisions of contract or grant agreements, significant abuse or any material disallowance? Yes No If “Yes” to 8.6 a), provide an explanation of the issue(s), relevant dates, the government entity involved, any remedial or corrective action(s) taken and the current status of the issue(s). Provide answer below or attach additional sheets with numbered responses. AC 3290-S (Rev. 7/12) NYS Vendor ID: 000000000 NEW YORK STATE VENDOR RESPONSIBILITY QUESTIONNAIRE FOR-PROFIT BUSINESS ENTITY Page 8 of 10 IX. ASSOCIATED ENTITIES This section pertains to any entity(ies) that either controls or is controlled by the reporting entity. (See definition of “associated entity” for additional information to complete this section.) 9.0 Does the Reporting Entity have any Associated Entities? Note: All questions in this section must be answered if the Reporting Entity is either: − An Organizational Unit; or − The entire Legal Business Entity which controls, or is controlled by, any other entity(ies). If “No,” SKIP THE REMAINDER OF SECTION IX AND PROCEED WITH SECTION X. Yes No 9.1 Within the past five (5) years, has any Associated Entity Official or Principal Owner been charged with a misdemeanor or felony, indicted, granted immunity, convicted of a crime or subject to a judgment for: a) Any business-related activity; or b) Any crime, whether or not business-related, the underlying conduct of which was related to truthfulness? Yes No If “Yes,” provide an explanation of the issue(s), the individual involved, his/her title and role in the Associated Entity, his/her relationship to the Reporting Entity, relevant dates, the government entity involved, any remedial or corrective action(s) taken and the current status of the issue(s). 9.2 Does any Associated Entity have any currently undischarged federal, New York State, New York City or New York local government liens or judgments (not including UCC filings) over $50,000? Yes No If “Yes,” provide an explanation of the issue(s), identify the Associated Entity’s name(s), EIN(s), primary business activity, relationship to the Reporting Entity, relevant dates, the Lien holder or Claimant’s name(s), the amount of the lien(s) and the current status of the issue(s). Provide answer below or attach additional sheets with numbered responses. 9.3 Within the past five (5) years, has any Associated Entity: a) Been disqualified, suspended or debarred from any federal, New York State, New York City or other New York local government contracting process? Yes No b) Been denied a contract award or had a bid rejected based upon a non-responsibility finding by any federal, New York State, New York City, or New York local government entity? Yes No c) Been suspended, cancelled or terminated for cause (including for non-responsibility) on any federal, New York State, New York City or New York local government contract? Yes No d) Been the subject of an investigation, whether open or closed, by any federal, New York State, New York City, or New York local government entity for a civil or criminal violation with a penalty in excess of $500,000? Yes No e) Been the subject of an indictment, grant of immunity, judgment, or conviction (including entering into a plea bargain) for conduct constituting a crime? Yes No f) Been convicted of a criminal offense pursuant to any administrative and/or regulatory action taken by any federal, New York State, New York City, or New York local government entity? Yes No g) Initiated or been the subject of any bankruptcy proceedings, whether or not closed, or is any bankruptcy proceeding pending? Yes No For each “Yes,” provide an explanation of the issue(s), identify the Associated Entity’s name(s), EIN(s), primary business activity, relationship to the Reporting Entity, relevant dates, the government entity involved, any remedial or corrective action(s) taken and the current status of the issue(s). Provide answer below or attach additional sheets with numbered responses. AC 3290-S (Rev. 7/12) NYS Vendor ID: 000000000 NEW YORK STATE VENDOR RESPONSIBILITY QUESTIONNAIRE FOR-PROFIT BUSINESS ENTITY Page 9 of 10 X. FREEDOM OF INFORMATION LAW (FOIL) 10. Indicate whether any information supplied herein is believed to be exempt from disclosure under the Freedom of Information Law (FOIL). Note: A determination of whether such information is exempt from FOIL will be made at the time of any request for disclosure under FOIL. Yes No If “Yes,” indicate the question number(s) and explain the basis for the claim. XI. AUTHORIZED CONTACT FOR THIS QUESTIONNAIRE Name Telephone Fax ext. Title Email AC 3290-S (Rev. 7/12) NYS Vendor ID: 000000000 NEW YORK STATE VENDOR RESPONSIBILITY QUESTIONNAIRE FOR-PROFIT BUSINESS ENTITY Page 10 of 10 Certification The undersigned: (1) recognizes that this questionnaire is submitted for the express purpose of assisting New York State contracting entities in making responsibility determinations regarding an award of a contract or approval of a subcontract; (2) recognizes that the Office of the State Comptroller (OSC) will rely on information disclosed in the questionnaire in making responsibility determinations and in approving a contract or subcontract; (3) acknowledges that the New York State contracting entities and OSC may, in their discretion, by means which they may choose, verify the truth and accuracy of all statements made herein; and (4) acknowledges that intentional submission of false or misleading information may constitute a misdemeanor or felony under New York State Penal Law, may be punishable by a fine and/or imprisonment under Federal Law, and may result in a finding of non-responsibility, contract suspension or contract termination. The undersigned certifies that he/she: • is knowledgeable about the Reporting Entity's business and operations; • has read and understands all of the questions contained in the questionnaire; • has not altered the content of the questionnaire in any manner; • has reviewed and/or supplied full and complete responses to each question; • to the best of his/her knowledge, information and belief, confirms that the Reporting Entity's responses are true, accurate and complete, including all attachments, if applicable; • understands that New York State will rely on the information disclosed in the questionnaire when entering into a contract with the Reporting Entity; and • is under obligation to update the information provided herein to include any material changes to the Reporting Entity's responses at the time of bid/proposal submission through the contract award notification, and may be required to update the information at the request of the New York State contracting entities or OSC prior to the award and/or approval of a contract, or during the term of the contract. Signature of Owner/Officer Printed Name of Signatory Title Reporting Entity Name Address City, State, Zip Sworn to before me this day of 20 ; Notary Public \n"
          ]
        }
      ]
    },
    {
      "cell_type": "code",
      "source": [
        "print( df_A.dtypes )"
      ],
      "metadata": {
        "colab": {
          "base_uri": "https://localhost:8080/"
        },
        "id": "QCt6ktqTqGWO",
        "outputId": "31b59113-1bec-4537-a013-fff7bdbe916f"
      },
      "execution_count": 10,
      "outputs": [
        {
          "output_type": "stream",
          "name": "stdout",
          "text": [
            "Unnamed: 0                                                   int64\n",
            "extracted_content                                           object\n",
            "description                                                 object\n",
            "title                                                       object\n",
            "bid_id                                                      object\n",
            "is_deadline_date                                            object\n",
            "deadline_sents                                              object\n",
            "deadline_sent_start                                         object\n",
            "deadline_sent_end                                           object\n",
            "deadline_sents_pos(in_sent: N, in_table: T, in_othrs: O)    object\n",
            "non_deadline_sents                                          object\n",
            "non_deadline_sentS_startS                                   object\n",
            "non_deadline_sentS_endS                                     object\n",
            "dtype: object\n"
          ]
        }
      ]
    },
    {
      "cell_type": "code",
      "source": [
        "df_A.rename(columns = {'Unnamed: 0':'ORG_idx'}, inplace = True)\n",
        "\n",
        "df_A.to_csv('/content/sample_data/Bid_Advisor_TASK__Cln_Dataset( FULL Main ).csv', index = False)"
      ],
      "metadata": {
        "id": "QWd4AfRUxYSl"
      },
      "execution_count": 11,
      "outputs": []
    },
    {
      "cell_type": "code",
      "source": [
        "print( df_A.info() )"
      ],
      "metadata": {
        "colab": {
          "base_uri": "https://localhost:8080/"
        },
        "id": "FaSc9pDL4P5S",
        "outputId": "91a803ad-add4-40db-e4f1-4b1e9f8878d2"
      },
      "execution_count": 12,
      "outputs": [
        {
          "output_type": "stream",
          "name": "stdout",
          "text": [
            "<class 'pandas.core.frame.DataFrame'>\n",
            "RangeIndex: 1071 entries, 0 to 1070\n",
            "Data columns (total 13 columns):\n",
            " #   Column                                                    Non-Null Count  Dtype \n",
            "---  ------                                                    --------------  ----- \n",
            " 0   ORG_idx                                                   1071 non-null   int64 \n",
            " 1   extracted_content                                         1071 non-null   object\n",
            " 2   description                                               1071 non-null   object\n",
            " 3   title                                                     1071 non-null   object\n",
            " 4   bid_id                                                    1071 non-null   object\n",
            " 5   is_deadline_date                                          1071 non-null   object\n",
            " 6   deadline_sents                                            1071 non-null   object\n",
            " 7   deadline_sent_start                                       1071 non-null   object\n",
            " 8   deadline_sent_end                                         1071 non-null   object\n",
            " 9   deadline_sents_pos(in_sent: N, in_table: T, in_othrs: O)  70 non-null     object\n",
            " 10  non_deadline_sents                                        1071 non-null   object\n",
            " 11  non_deadline_sentS_startS                                 1071 non-null   object\n",
            " 12  non_deadline_sentS_endS                                   1071 non-null   object\n",
            "dtypes: int64(1), object(12)\n",
            "memory usage: 108.9+ KB\n",
            "None\n"
          ]
        }
      ]
    },
    {
      "cell_type": "markdown",
      "source": [
        "__________________________________"
      ],
      "metadata": {
        "id": "Rg2aVRmV0UO0"
      }
    },
    {
      "cell_type": "code",
      "source": [
        "df_B = pd.read_csv('/content/sample_data/Bid_Advisor_TASK__Cln_Dataset( FULL Main ).csv')"
      ],
      "metadata": {
        "id": "sUpBHv2gzWAt"
      },
      "execution_count": 13,
      "outputs": []
    },
    {
      "cell_type": "code",
      "source": [
        "df_C= df_B[:710]\n",
        "\n",
        "df_C.to_csv('/content/sample_data/Bid_Advisor_TASK__Cln_Dataset( 710q MAIN ).csv', index = False)\n",
        "print( df_C.info() )"
      ],
      "metadata": {
        "colab": {
          "base_uri": "https://localhost:8080/"
        },
        "id": "pKwwN6aW0Wkq",
        "outputId": "fd1d4c59-b2d2-4f4f-ef07-960ebd8078af"
      },
      "execution_count": 14,
      "outputs": [
        {
          "output_type": "stream",
          "name": "stdout",
          "text": [
            "<class 'pandas.core.frame.DataFrame'>\n",
            "RangeIndex: 710 entries, 0 to 709\n",
            "Data columns (total 13 columns):\n",
            " #   Column                                                    Non-Null Count  Dtype  \n",
            "---  ------                                                    --------------  -----  \n",
            " 0   ORG_idx                                                   709 non-null    float64\n",
            " 1   extracted_content                                         330 non-null    object \n",
            " 2   description                                               710 non-null    object \n",
            " 3   title                                                     710 non-null    object \n",
            " 4   bid_id                                                    709 non-null    object \n",
            " 5   is_deadline_date                                          381 non-null    float64\n",
            " 6   deadline_sents                                            74 non-null     object \n",
            " 7   deadline_sent_start                                       73 non-null     object \n",
            " 8   deadline_sent_end                                         73 non-null     object \n",
            " 9   deadline_sents_pos(in_sent: N, in_table: T, in_othrs: O)  69 non-null     object \n",
            " 10  non_deadline_sents                                        0 non-null      float64\n",
            " 11  non_deadline_sentS_startS                                 0 non-null      float64\n",
            " 12  non_deadline_sentS_endS                                   0 non-null      float64\n",
            "dtypes: float64(5), object(8)\n",
            "memory usage: 72.2+ KB\n",
            "None\n"
          ]
        }
      ]
    },
    {
      "cell_type": "code",
      "source": [
        "df_D = pd.read_csv('/content/sample_data/Bid_Advisor_TASK__Cln_Dataset( 710q MAIN ).csv')"
      ],
      "metadata": {
        "id": "hKY39UpW22NL"
      },
      "execution_count": 15,
      "outputs": []
    },
    {
      "cell_type": "code",
      "source": [
        "print(f\" df_INFO : \\n\\n{df_D.info()} \\n\\n\\n\\n\")\n",
        "\n",
        "print(f\" sum_nullS : \\n\\n{df_D.isnull().sum()} \\n\")\n",
        "print(f\" sum_naS   : \\n\\n{df_D.isna().sum()} \\n\\n\\n\\n\")\n",
        "\n",
        "print(f\" sum_!_nullS : \\n\\n{df_D.notnull().sum()} \\n\")\n",
        "print(f\" sum_!_nullS : \\n\\n{df_D.notna().sum()} \\n\\n\\n\\n\")\n",
        "\n",
        "\n",
        "\n"
      ],
      "metadata": {
        "colab": {
          "base_uri": "https://localhost:8080/"
        },
        "id": "DxIkceY37EcY",
        "outputId": "60f5090f-916a-4653-c64b-9afc937d2929"
      },
      "execution_count": 16,
      "outputs": [
        {
          "output_type": "stream",
          "name": "stdout",
          "text": [
            "<class 'pandas.core.frame.DataFrame'>\n",
            "RangeIndex: 710 entries, 0 to 709\n",
            "Data columns (total 13 columns):\n",
            " #   Column                                                    Non-Null Count  Dtype  \n",
            "---  ------                                                    --------------  -----  \n",
            " 0   ORG_idx                                                   709 non-null    float64\n",
            " 1   extracted_content                                         330 non-null    object \n",
            " 2   description                                               710 non-null    object \n",
            " 3   title                                                     710 non-null    object \n",
            " 4   bid_id                                                    709 non-null    object \n",
            " 5   is_deadline_date                                          381 non-null    float64\n",
            " 6   deadline_sents                                            74 non-null     object \n",
            " 7   deadline_sent_start                                       73 non-null     object \n",
            " 8   deadline_sent_end                                         73 non-null     object \n",
            " 9   deadline_sents_pos(in_sent: N, in_table: T, in_othrs: O)  69 non-null     object \n",
            " 10  non_deadline_sents                                        0 non-null      float64\n",
            " 11  non_deadline_sentS_startS                                 0 non-null      float64\n",
            " 12  non_deadline_sentS_endS                                   0 non-null      float64\n",
            "dtypes: float64(5), object(8)\n",
            "memory usage: 72.2+ KB\n",
            " df_INFO : \n",
            "\n",
            "None \n",
            "\n",
            "\n",
            "\n",
            "\n",
            " sum_nullS : \n",
            "\n",
            "ORG_idx                                                       1\n",
            "extracted_content                                           380\n",
            "description                                                   0\n",
            "title                                                         0\n",
            "bid_id                                                        1\n",
            "is_deadline_date                                            329\n",
            "deadline_sents                                              636\n",
            "deadline_sent_start                                         637\n",
            "deadline_sent_end                                           637\n",
            "deadline_sents_pos(in_sent: N, in_table: T, in_othrs: O)    641\n",
            "non_deadline_sents                                          710\n",
            "non_deadline_sentS_startS                                   710\n",
            "non_deadline_sentS_endS                                     710\n",
            "dtype: int64 \n",
            "\n",
            " sum_naS   : \n",
            "\n",
            "ORG_idx                                                       1\n",
            "extracted_content                                           380\n",
            "description                                                   0\n",
            "title                                                         0\n",
            "bid_id                                                        1\n",
            "is_deadline_date                                            329\n",
            "deadline_sents                                              636\n",
            "deadline_sent_start                                         637\n",
            "deadline_sent_end                                           637\n",
            "deadline_sents_pos(in_sent: N, in_table: T, in_othrs: O)    641\n",
            "non_deadline_sents                                          710\n",
            "non_deadline_sentS_startS                                   710\n",
            "non_deadline_sentS_endS                                     710\n",
            "dtype: int64 \n",
            "\n",
            "\n",
            "\n",
            "\n",
            " sum_!_nullS : \n",
            "\n",
            "ORG_idx                                                     709\n",
            "extracted_content                                           330\n",
            "description                                                 710\n",
            "title                                                       710\n",
            "bid_id                                                      709\n",
            "is_deadline_date                                            381\n",
            "deadline_sents                                               74\n",
            "deadline_sent_start                                          73\n",
            "deadline_sent_end                                            73\n",
            "deadline_sents_pos(in_sent: N, in_table: T, in_othrs: O)     69\n",
            "non_deadline_sents                                            0\n",
            "non_deadline_sentS_startS                                     0\n",
            "non_deadline_sentS_endS                                       0\n",
            "dtype: int64 \n",
            "\n",
            " sum_!_nullS : \n",
            "\n",
            "ORG_idx                                                     709\n",
            "extracted_content                                           330\n",
            "description                                                 710\n",
            "title                                                       710\n",
            "bid_id                                                      709\n",
            "is_deadline_date                                            381\n",
            "deadline_sents                                               74\n",
            "deadline_sent_start                                          73\n",
            "deadline_sent_end                                            73\n",
            "deadline_sents_pos(in_sent: N, in_table: T, in_othrs: O)     69\n",
            "non_deadline_sents                                            0\n",
            "non_deadline_sentS_startS                                     0\n",
            "non_deadline_sentS_endS                                       0\n",
            "dtype: int64 \n",
            "\n",
            "\n",
            "\n",
            "\n"
          ]
        }
      ]
    },
    {
      "cell_type": "code",
      "source": [
        "df_E = pd.read_csv('/content/sample_data/Bid_Advisor_TASK__Cln_Dataset( FULL Main ).csv')"
      ],
      "metadata": {
        "id": "RnHfta17_fvd"
      },
      "execution_count": 17,
      "outputs": []
    },
    {
      "cell_type": "code",
      "source": [
        "df_E = df_E.dropna(subset=['extracted_content'])"
      ],
      "metadata": {
        "id": "-TQAbWQc-2YH"
      },
      "execution_count": 18,
      "outputs": []
    },
    {
      "cell_type": "code",
      "source": [
        "#print(df_E.head(3))\n",
        "print(df_E.shape[0])\n",
        "print(df_E.info())"
      ],
      "metadata": {
        "colab": {
          "base_uri": "https://localhost:8080/"
        },
        "id": "HYR9kwSbA_gE",
        "outputId": "201105f0-60bf-4673-ab1f-f28a990c9677"
      },
      "execution_count": 19,
      "outputs": [
        {
          "output_type": "stream",
          "name": "stdout",
          "text": [
            "526\n",
            "<class 'pandas.core.frame.DataFrame'>\n",
            "Int64Index: 526 entries, 16 to 1071\n",
            "Data columns (total 13 columns):\n",
            " #   Column                                                    Non-Null Count  Dtype  \n",
            "---  ------                                                    --------------  -----  \n",
            " 0   ORG_idx                                                   525 non-null    float64\n",
            " 1   extracted_content                                         526 non-null    object \n",
            " 2   description                                               526 non-null    object \n",
            " 3   title                                                     526 non-null    object \n",
            " 4   bid_id                                                    525 non-null    object \n",
            " 5   is_deadline_date                                          328 non-null    float64\n",
            " 6   deadline_sents                                            74 non-null     object \n",
            " 7   deadline_sent_start                                       73 non-null     object \n",
            " 8   deadline_sent_end                                         73 non-null     object \n",
            " 9   deadline_sents_pos(in_sent: N, in_table: T, in_othrs: O)  69 non-null     object \n",
            " 10  non_deadline_sents                                        0 non-null      float64\n",
            " 11  non_deadline_sentS_startS                                 0 non-null      float64\n",
            " 12  non_deadline_sentS_endS                                   0 non-null      float64\n",
            "dtypes: float64(5), object(8)\n",
            "memory usage: 57.5+ KB\n",
            "None\n"
          ]
        }
      ]
    },
    {
      "cell_type": "code",
      "source": [
        "df_E.to_csv('/content/sample_data/Bid_Advisor_TASK__Cln_Dataset( Valid full MAIN ).csv', index = False)\n",
        "print( df_E.info() )"
      ],
      "metadata": {
        "colab": {
          "base_uri": "https://localhost:8080/"
        },
        "id": "wHJ-vaaiAyOc",
        "outputId": "1ed02d88-99aa-4988-a614-c33bb4ef8b73"
      },
      "execution_count": 20,
      "outputs": [
        {
          "output_type": "stream",
          "name": "stdout",
          "text": [
            "<class 'pandas.core.frame.DataFrame'>\n",
            "Int64Index: 526 entries, 16 to 1071\n",
            "Data columns (total 13 columns):\n",
            " #   Column                                                    Non-Null Count  Dtype  \n",
            "---  ------                                                    --------------  -----  \n",
            " 0   ORG_idx                                                   525 non-null    float64\n",
            " 1   extracted_content                                         526 non-null    object \n",
            " 2   description                                               526 non-null    object \n",
            " 3   title                                                     526 non-null    object \n",
            " 4   bid_id                                                    525 non-null    object \n",
            " 5   is_deadline_date                                          328 non-null    float64\n",
            " 6   deadline_sents                                            74 non-null     object \n",
            " 7   deadline_sent_start                                       73 non-null     object \n",
            " 8   deadline_sent_end                                         73 non-null     object \n",
            " 9   deadline_sents_pos(in_sent: N, in_table: T, in_othrs: O)  69 non-null     object \n",
            " 10  non_deadline_sents                                        0 non-null      float64\n",
            " 11  non_deadline_sentS_startS                                 0 non-null      float64\n",
            " 12  non_deadline_sentS_endS                                   0 non-null      float64\n",
            "dtypes: float64(5), object(8)\n",
            "memory usage: 57.5+ KB\n",
            "None\n"
          ]
        }
      ]
    },
    {
      "cell_type": "code",
      "source": [
        "df_F = pd.read_csv('/content/sample_data/Bid_Advisor_TASK__Cln_Dataset( Valid full MAIN ).csv')\n",
        "\n",
        "\n",
        "F_dupS___extd_conts = df_F.duplicated(subset=['extracted_content'], keep='first').sum()\n",
        "F_uniqS__extd_conts = df_F['extracted_content'].nunique()\n",
        "                     \n",
        "F_dupS__descrptS = df_F.duplicated(subset=['description'], keep='first').sum()\n",
        "F_uniqS__descrptS = df_F['description'].nunique()                    \n",
        "\n",
        "F_Uniq__extd_conts____descrptS = df_F.groupby(['extracted_content','description']).ngroups\n",
        "F_Duplicates__extd_conts____descrptS = df_F.duplicated(subset=['extracted_content','description'], keep='first').sum()\n",
        "\n",
        "\n",
        "\n",
        "\n",
        "print(f\" Uniq__extd_conts : {F_uniqS__extd_conts} \\n\")\n",
        "print(f\" Duplicates__extd_conts : {F_dupS___extd_conts} \\n\\n\")\n",
        "\n",
        "\n",
        "print(f\" Uniq__descrptS : {F_uniqS__descrptS} \\n\")\n",
        "print(f\" Duplicates__descrptS : { F_dupS__descrptS} \\n\\n\")\n",
        "\n",
        "\n",
        "print(f\" Uniq__extd_conts__&__descrptS : { F_Uniq__extd_conts____descrptS } \\n\")\n",
        "print(f\" Duplicates__extd_conts__&__descrptS : {F_Duplicates__extd_conts____descrptS} \\n\\n\")"
      ],
      "metadata": {
        "id": "Xvxe85U-FsIF",
        "colab": {
          "base_uri": "https://localhost:8080/"
        },
        "outputId": "8f49b3d2-6673-41f2-c123-60cd5873927e"
      },
      "execution_count": 38,
      "outputs": [
        {
          "output_type": "stream",
          "name": "stdout",
          "text": [
            " Uniq__extd_conts : 301 \n",
            "\n",
            " Duplicates__extd_conts : 225 \n",
            "\n",
            "\n",
            " Uniq__descrptS : 337 \n",
            "\n",
            " Duplicates__descrptS : 189 \n",
            "\n",
            "\n",
            " Uniq__extd_conts__&__descrptS : 347 \n",
            "\n",
            " Duplicates__extd_conts__&__descrptS : 179 \n",
            "\n",
            "\n"
          ]
        }
      ]
    },
    {
      "cell_type": "code",
      "source": [
        "df_F = df_F.drop_duplicates(subset=['extracted_content','description'], keep='first')\n",
        "df_F[['extracted_content','description']].drop_duplicates().shape[0]\n",
        "\n",
        "#print(r)"
      ],
      "metadata": {
        "colab": {
          "base_uri": "https://localhost:8080/"
        },
        "id": "weGs4xDSUY-1",
        "outputId": "946862cf-2093-455c-a838-6e8f5738efe3"
      },
      "execution_count": 46,
      "outputs": [
        {
          "output_type": "execute_result",
          "data": {
            "text/plain": [
              "347"
            ]
          },
          "metadata": {},
          "execution_count": 46
        }
      ]
    },
    {
      "cell_type": "code",
      "source": [
        "df_F.info()"
      ],
      "metadata": {
        "colab": {
          "base_uri": "https://localhost:8080/"
        },
        "id": "Jo0UK1y5WDkU",
        "outputId": "3ec9a84b-f08f-4501-8a1d-cedfa4d965f6"
      },
      "execution_count": 47,
      "outputs": [
        {
          "output_type": "stream",
          "name": "stdout",
          "text": [
            "<class 'pandas.core.frame.DataFrame'>\n",
            "Int64Index: 347 entries, 0 to 520\n",
            "Data columns (total 13 columns):\n",
            " #   Column                                                    Non-Null Count  Dtype  \n",
            "---  ------                                                    --------------  -----  \n",
            " 0   ORG_idx                                                   346 non-null    float64\n",
            " 1   extracted_content                                         347 non-null    object \n",
            " 2   description                                               347 non-null    object \n",
            " 3   title                                                     347 non-null    object \n",
            " 4   bid_id                                                    346 non-null    object \n",
            " 5   is_deadline_date                                          166 non-null    float64\n",
            " 6   deadline_sents                                            74 non-null     object \n",
            " 7   deadline_sent_start                                       73 non-null     object \n",
            " 8   deadline_sent_end                                         73 non-null     object \n",
            " 9   deadline_sents_pos(in_sent: N, in_table: T, in_othrs: O)  69 non-null     object \n",
            " 10  non_deadline_sents                                        0 non-null      float64\n",
            " 11  non_deadline_sentS_startS                                 0 non-null      float64\n",
            " 12  non_deadline_sentS_endS                                   0 non-null      float64\n",
            "dtypes: float64(5), object(8)\n",
            "memory usage: 38.0+ KB\n"
          ]
        }
      ]
    },
    {
      "cell_type": "code",
      "source": [
        "df_F = df_F.dropna(subset=['is_deadline_date'])\n",
        "print(df_F.shape[0])\n",
        "print(df_F.info())"
      ],
      "metadata": {
        "colab": {
          "base_uri": "https://localhost:8080/"
        },
        "id": "smHq0e5wX0xL",
        "outputId": "8cb3f3fe-84dc-4702-8dda-b420c05e5ebd"
      },
      "execution_count": 49,
      "outputs": [
        {
          "output_type": "stream",
          "name": "stdout",
          "text": [
            "166\n",
            "<class 'pandas.core.frame.DataFrame'>\n",
            "Int64Index: 166 entries, 0 to 329\n",
            "Data columns (total 13 columns):\n",
            " #   Column                                                    Non-Null Count  Dtype  \n",
            "---  ------                                                    --------------  -----  \n",
            " 0   ORG_idx                                                   166 non-null    float64\n",
            " 1   extracted_content                                         166 non-null    object \n",
            " 2   description                                               166 non-null    object \n",
            " 3   title                                                     166 non-null    object \n",
            " 4   bid_id                                                    166 non-null    object \n",
            " 5   is_deadline_date                                          166 non-null    float64\n",
            " 6   deadline_sents                                            74 non-null     object \n",
            " 7   deadline_sent_start                                       73 non-null     object \n",
            " 8   deadline_sent_end                                         73 non-null     object \n",
            " 9   deadline_sents_pos(in_sent: N, in_table: T, in_othrs: O)  69 non-null     object \n",
            " 10  non_deadline_sents                                        0 non-null      float64\n",
            " 11  non_deadline_sentS_startS                                 0 non-null      float64\n",
            " 12  non_deadline_sentS_endS                                   0 non-null      float64\n",
            "dtypes: float64(5), object(8)\n",
            "memory usage: 18.2+ KB\n",
            "None\n"
          ]
        }
      ]
    },
    {
      "cell_type": "code",
      "source": [
        "df_F.to_csv('/content/sample_data/Bid_Advisor_TASK__Cln_Dataset( count only bids with Deadline info only SCTDD. ).csv', index = False)\n",
        "print( df_F.info() )"
      ],
      "metadata": {
        "colab": {
          "base_uri": "https://localhost:8080/"
        },
        "id": "1figKn73Yua6",
        "outputId": "c2145d5c-e769-4166-b7cf-a4b21423e4d0"
      },
      "execution_count": 50,
      "outputs": [
        {
          "output_type": "stream",
          "name": "stdout",
          "text": [
            "<class 'pandas.core.frame.DataFrame'>\n",
            "Int64Index: 166 entries, 0 to 329\n",
            "Data columns (total 13 columns):\n",
            " #   Column                                                    Non-Null Count  Dtype  \n",
            "---  ------                                                    --------------  -----  \n",
            " 0   ORG_idx                                                   166 non-null    float64\n",
            " 1   extracted_content                                         166 non-null    object \n",
            " 2   description                                               166 non-null    object \n",
            " 3   title                                                     166 non-null    object \n",
            " 4   bid_id                                                    166 non-null    object \n",
            " 5   is_deadline_date                                          166 non-null    float64\n",
            " 6   deadline_sents                                            74 non-null     object \n",
            " 7   deadline_sent_start                                       73 non-null     object \n",
            " 8   deadline_sent_end                                         73 non-null     object \n",
            " 9   deadline_sents_pos(in_sent: N, in_table: T, in_othrs: O)  69 non-null     object \n",
            " 10  non_deadline_sents                                        0 non-null      float64\n",
            " 11  non_deadline_sentS_startS                                 0 non-null      float64\n",
            " 12  non_deadline_sentS_endS                                   0 non-null      float64\n",
            "dtypes: float64(5), object(8)\n",
            "memory usage: 18.2+ KB\n",
            "None\n"
          ]
        }
      ]
    }
  ]
}