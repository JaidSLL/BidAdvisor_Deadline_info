{
  "cells": [
    {
      "cell_type": "code",
      "execution_count": null,
      "metadata": {
        "id": "poT_y10ekFfq"
      },
      "outputs": [],
      "source": [
        "!pip install -U spacy\n",
        "!python -m spacy download en_core_web_lg\n",
        "import spacy"
      ]
    },
    {
      "cell_type": "code",
      "execution_count": null,
      "metadata": {
        "id": "mHUka96rkKyE"
      },
      "outputs": [],
      "source": [
        "load_model_lg = spacy.load(\"en_core_web_lg\")"
      ]
    },
    {
      "cell_type": "code",
      "source": [
        "import re "
      ],
      "metadata": {
        "id": "ZWSX72W2cQoZ"
      },
      "execution_count": null,
      "outputs": []
    },
    {
      "cell_type": "code",
      "source": [
        "doc_tst_A = pd.read_csv('/content/sample_data/Bid_Advisor_TASK__Cln_Dataset( FULL Main ).csv')\n"
      ],
      "metadata": {
        "id": "8aaF0yVnZ1Lq"
      },
      "execution_count": null,
      "outputs": []
    },
    {
      "cell_type": "code",
      "source": [
        "doc_tst_A[['extracted_content', 'description', 'title', 'bid_id', 'deadline_sents', 'non_deadline_sents']] = doc_tst_A[['extracted_content', 'description', 'title', 'bid_id', 'deadline_sents', 'non_deadline_sents']].astype(str)\n",
        "\n",
        "\n",
        "\n",
        "doc_tst_A[['is_deadline_date', 'deadline_sent_start', 'deadline_sent_end', 'non_deadline_sentS_startS', 'non_deadline_sentS_endS' ]] = doc_tst_A[['is_deadline_date', 'deadline_sent_start', 'deadline_sent_end', 'non_deadline_sentS_startS', 'non_deadline_sentS_endS' ]].astype(str)"
      ],
      "metadata": {
        "id": "t9cGyLADaMgA"
      },
      "execution_count": null,
      "outputs": []
    },
    {
      "cell_type": "code",
      "source": [
        "print( doc_tst_A.dtypes )"
      ],
      "metadata": {
        "id": "pY0z9P8VaebK"
      },
      "execution_count": null,
      "outputs": []
    },
    {
      "cell_type": "code",
      "source": [
        "doc_tst_A['extracted_content'] = doc_tst_A['extracted_content'].str.replace(\"\"\"\\n\"\"\",\"\"\" \"\"\")\n",
        "doc_tst_A['extracted_content'] = doc_tst_A['extracted_content'].str.replace(\"\"\" +\"\"\", \"\"\" \"\"\")\n",
        "\n",
        "doc_tst_A['description'] = doc_tst_A['description'].str.replace(\"\"\"\\n\"\"\",\"\"\" \"\"\")\n",
        "doc_tst_A['description'] = doc_tst_A['description'].str.replace(\"\"\" +\"\"\", \"\"\" \"\"\")\n",
        "\n",
        "doc_tst_A['title'] = doc_tst_A['title'].str.replace(\"\"\"\\n\"\"\",\"\"\" \"\"\")\n",
        "doc_tst_A['title'] = doc_tst_A['title'].str.replace(\"\"\" +\"\"\", \"\"\" \"\"\")\n",
        "\n",
        "\n",
        "doc_tst_A['bid_id'] = doc_tst_A['bid_id'].str.replace(\"\"\"\\n\"\"\",\"\"\" \"\"\")\n",
        "doc_tst_A['bid_id'] = doc_tst_A['bid_id'].str.replace(\"\"\" +\"\"\", \"\"\" \"\"\")\n",
        "\n",
        "\n",
        "doc_tst_A['deadline_sents'] = doc_tst_A['deadline_sents'].str.replace(\"\"\"\\n\"\"\",\"\"\" \"\"\")\n",
        "doc_tst_A['deadline_sents'] = doc_tst_A['deadline_sents'].str.replace(\"\"\" +\"\"\", \"\"\" \"\"\")\n",
        "\n",
        "doc_tst_A['non_deadline_sents'] = doc_tst_A['non_deadline_sents'].str.replace(\"\"\"\\n\"\"\",\"\"\" \"\"\")\n",
        "doc_tst_A['non_deadline_sents'] = doc_tst_A['non_deadline_sents'].str.replace(\"\"\" +\"\"\", \"\"\" \"\"\")"
      ],
      "metadata": {
        "id": "42S7n4BHakuI"
      },
      "execution_count": null,
      "outputs": []
    },
    {
      "cell_type": "code",
      "source": [
        "print(doc_tst_A['extracted_content'][20])"
      ],
      "metadata": {
        "id": "blxcOXpxa5Ux"
      },
      "execution_count": null,
      "outputs": []
    },
    {
      "cell_type": "code",
      "source": [
        "'''\n",
        "doc_tst_A.rename(columns = {'Unnamed: 0':'ORG_idx'}, inplace = True)\n",
        "\n",
        "doc_tst_A.to_csv('/content/sample_data/Bid_Advisor_TASK__Cln_Dataset( FULL Main ).csv', index = False)\n",
        "'''"
      ],
      "metadata": {
        "id": "QXxyuNdKa-tQ"
      },
      "execution_count": null,
      "outputs": []
    },
    {
      "cell_type": "code",
      "source": [
        "print( doc_tst_A.info() )"
      ],
      "metadata": {
        "id": "Bu-3peipbQ8Q"
      },
      "execution_count": null,
      "outputs": []
    },
    {
      "cell_type": "code",
      "source": [
        "'''\n",
        "df_C= doc_tst_A[:710]\n",
        "df_C.to_csv('/content/sample_data/Bid_Advisor_TASK__Cln_Dataset( 710q MAIN ).csv', index = False)\n",
        "print( df_C.info() )\n",
        "\n",
        "'''"
      ],
      "metadata": {
        "id": "2Bbug1j7bTpR"
      },
      "execution_count": null,
      "outputs": []
    },
    {
      "cell_type": "code",
      "execution_count": null,
      "metadata": {
        "id": "7AUoD4eWkNTy"
      },
      "outputs": [],
      "source": [
        "#input_extracted_contents\n",
        "#doc_tst_aa=str(r\"\"\"\"\"\")"
      ]
    },
    {
      "cell_type": "code",
      "execution_count": null,
      "metadata": {
        "id": "-VhyQP1mlDkE"
      },
      "outputs": [],
      "source": [
        "#data_cleaning_raw_text\n",
        "#doc_tst_A= doc_tst_aa.replace(\"\"\"\\n\"\"\",\"\"\" \"\"\")\n",
        "#doc_tst_A=re.sub(\"\"\" +\"\"\", \"\"\" \"\"\", doc_tst_A)\n",
        "\n",
        "#remove_links & underlines & etc if need\n",
        "#------------------------------\n",
        "\n",
        "#print(doc_tst_A)"
      ]
    },
    {
      "cell_type": "code",
      "source": [
        "#doc_tst_A[36730:36760]\n",
        "#doc_tst_A[36747:36748]"
      ],
      "metadata": {
        "id": "uUXycRfLhlir"
      },
      "execution_count": null,
      "outputs": []
    },
    {
      "cell_type": "code",
      "execution_count": null,
      "metadata": {
        "colab": {
          "base_uri": "https://localhost:8080/"
        },
        "id": "jHyFcdC-lkFC",
        "outputId": "172a5f9a-2177-41bc-fd17-2e119dee853e"
      },
      "outputs": [
        {
          "output_type": "stream",
          "name": "stdout",
          "text": [
            "5563\n",
            "FINAL_:\n",
            " MENDOCINO COUNTY DEPARTMENT OF TRANSPORTATION REQUEST FOR PROPOSAL CONTRACT 210030 RECONSTRUCTION AND WIDENING OF EAST SIDE POTTER VALLEY ROAD PROJECT (CR 240) CONSTRUCTION MANAGEMENT DOT PROJECT C980703 I. INTRODUCTION Mendocino County Department of Transportation requires the services of Professional Construction Engineering firms to provide construction engineering and project management services. This construction engineering is for the realignment and widening of East Side Potter Valley Road (CR 240) in Potter Valley. The project includes replacement of culverts, construction of curb/gutter/sidewalk, and realigning and paving of approximately 1 mile of roadway. The purpose of this request is to provide complete construction management and inspection to provide a completed product that performs as intended. Portions of the scope of work may be performed by County staff, based on availability of staff, but the selected firm must be able to perform all of the tasks as put forward in the Scope of Work. To assure independent action, the design consultant for this project may not participate in the Construction Management portion of a project beyond the verification of details, approval of construction contractor product submittals and other activities normally expected of the design engineer during construction, for which he will be retained. Consultant proposals will provide examples of previous projects using Caltrans procedures to demonstrate the appropriate knowledge and experience for this work. The County has established insurance requirements applicable to professional services agreements, including this proposed agreement. The applicable insurance requirements are listed in section XVII of this Request for Proposal. II. DEFINITIONS COUNTY – The County of Mendocino. Consultant - A person, partnership, firm, corporation, or joint venture submitting a proposal to obtain a COUNTY contract. CONSULTANT – A Consultant who signs a contract with the COUNTY to perform services. III. PROPOSAL SUBMISSION A. Consultants must submit 3 copies of their proposal. The proposal must be formatted in accordance with the instructions of this Request for Proposal. Promotional materials may be attached, but are not necessary and will not be considered as meeting any of the requirements of this Request for Proposal. Proposals must be enclosed in a sealed envelope or package, clearly marked “ESPV Road Reconstruction” and delivered to: Mendocino County Department of Transportation 340 Lake Mendocino Drive Ukiah, CA 95482-9432 Attn: Bill Wood Late or facsimile proposals will not be accepted. It is the proposer’s responsibility to assure that his proposal is delivered and received at the location specified herein, on or before the date and hour set. Proposals received after the date and time specified will not be considered. Note: The un-authorized use of the County’s official logo is strictly prohibited. Submittal Deadline: May 11, 2021 by 2:00 P.M. B. In a separate sealed envelope, proposers are required to submit with their proposal package, with original Consultant signature: 1. Certificate of Non-Collusion (Attachment B). 2. Proposal Summary Fact Sheet and Statement of Responsibility (Attachment C). 3. Exhibit 10-O1 “Local Agency Proposer DBE Commitment”. C. Proposers are expected to examine all provisions, specifications and instructions included in this Request for Proposal. Failure to do so will be at the proposer’s risk. D. All proposals must be dated and signed by a representative authorized to enter into contracts for the proposing Consultant. E. All proposals will remain in effect and legally binding for at least 45 days from the opening date. F. Expenses incurred in preparation of the proposal, site visits and any other actions related to responding to this Request for Proposal shall be the responsibility of the Consultant. Any and all damages that may occur due to packaging or shipping of the proposal will be the sole responsibility of the Consultant. G. All proposals, response inquiries and correspondence relating to or in reference to this Request for Proposal, and all reports, charts, displays, schedules, exhibits and other documentation submitted by Consultant shall become the property of the County of Mendocino. H. Time when stated as a number of days, shall include Sundays through Saturdays, excluding legal holidays. I. Consultant must examine all information and materials contained in and accompanying its proposal. Failure to do so will be at the Consultant's risk. This will include, but not be limited to, all relevant laws and regulations of the State of California and the United States. J. The successful consultant will be subject to verification of non-fraud and for listing on the list for debarred contractors/consultants per federal funding requirements. IV. PRE-SUBMITTAL INQUIRIES Pre-submittal procedural or technical inquiries may be directed to Bill Wood at (707) 234-2823 or email: WoodW@MendocinoCounty.org V. MODIFICATIONS OR WITHDRAWAL OF PROPOSALS A proposal that is in the possession of the County may be altered by letter or facsimile bearing the name and signature of the Consultant’s authorized representative, provided it is received prior to the deadline for submission of proposals. Telephone or verbal alterations will not be accepted. VI. SCHEDULE OF ACTIVITIES The County intends to progress in this procurement in a series of orderly steps. The schedule that follows has been developed in order to provide adequate information for Consultants to prepare definitive Proposals and to permit Mendocino County to fully consider various factors that may affect the decision. This schedule is subject to change at the discretion of the County. The County will provide sufficient advance notice to Consultants in the event of schedule changes. Scheduled Activity Proposed Date Final Date Written Questions Accepted May 4, 2021 Request for Proposal Submission Deadline May 11, 2021 Final Selection and Notification May 13, 2021 Begin Cost Negotiations Date May 14, 2021 Contract Execution June 22, 2021 Begin Work June 23, 2021 VII. SELECTION PROCESS A. The County reserves the sole right to judge the contents of each Consultant's proposal. The selection process will be governed by the following criteria: 1. The proposal must adhere to the instructions and format as specified in this Request for Proposal. 2. The evaluation will include a review of all documents and information relating to the Consultant’s services, organizational structure, capabilities qualifications and past performance. 3. Consultants may be required to make an oral presentation and interview before final selection is made. 4. The County may evaluate any information from any source it deems relevant to the evaluation. 5. False, incomplete, or unresponsive statements in a proposal may be sufficient cause for its rejection. VIII. EVALUATION CRITERIA A. The proposal will be judged based on service capabilities and experience of the prospective Consultant and all persons who will be providing services under contract. The following are the critical areas of the proposals that will be evaluated by the Selection Committee. 1. Adequacy of the described plan and approach to deliver requested services as described in this Request for Proposal. 2. Experience of Consultant in providing services and quality of work. 3. Status of Professional Certification including whether the Consultant meets the minimum requirements to provide service. There are further parameters noted in Attachment A. IX. AWARD AND CONTRACT INFORMATION A. The County hereby notifies all proposers that it will affirmatively ensure that minority business enterprises will be afforded full opportunity to submit proposals in response to this invitation, and that no proposer shall be discriminated against on the grounds of age, race, color, sex, religion, creed, national origin, marital status, political affiliation or disability. B. The Consultant agrees that should it be awarded a contract, the Consultant shall not discriminate against any person who performs work there under because of age, race, color, sex, religion, creed, national origin, marital status, political affiliation or disability. C. The County reserves the right to reject any or all proposals and to waive any irregularities if deemed in the best interest of the County to do so. The County will select the Consultant whose proposal is determined by the County to be the most responsive and responsible proposal and of the best advantage to the citizens of Mendocino County. The County shall be the sole judge in making such a determination. D. The successful Consultant will be required to enter into and sign a formal agreement with the County, which agreement will be in effect for the duration of the contract period. A sample contract is attached to this Request for Proposal as Attachment D. It is the Consultant’s responsibility to review the contract’s terms and conditions and to state any exceptions to those conditions in its response to the Request for Proposals. If no exceptions are noted, the County will understand that the Consultant agrees to the terms and conditions as stated in the contract. E. Prior to final selection, Consultants may be required to submit any additional information that Mendocino County may deem necessary to determine the Consultant's qualifications. Should any of the information requested by Mendocino County be considered by the Consultant to be confidential, it must be so stated. Mendocino County will attempt to treat any information submitted by the Consultant as confidential if requested to do so; however, Mendocino County cannot ensure such confidentiality. F. Open Procurement 1. The Consultant shall include any latitudes, prohibitions or limitations placed on the purchase of the items presented in the Consultant's Proposal. Items and/or services that Consultant intends to be offered on a unit price basis must be so identified. [The County’s objective is to clarify all purchase options.] 2. Mendocino County reserves the right to negotiate changes to the original Proposal(s), including changes in system cost and/or unit price. 3. Mendocino County reserves the right to accept or reject any or all Proposals in whole or in part. 4. Mendocino County reserves the right to negotiate a contract with more than one Consultant at the same time. X. SCOPE OF WORK Please see the included scope of work in Attachment D. XI. FORMAT OF TECHNICAL PROPOSAL Proposals submitted in response to this Request for Proposal should include: A. Project understanding and a description of the process/approach to be used in providing the services described in Section X, Scope of Work, of this Request for Proposal. Be specific and address all elements including timing of implementation. B. A description of previous relevant projects, with a reference and contact information for each. C. Limit proposal to 20 sheets of letter-sized paper (single or double sided). The intent is that the bound proposals will be limited to 20 sheets maximum of information to be reviewed by each selection committee member. Sheets that do not convey information, such as covers and dividers are not included in the count. D. A description of the experience and qualifications of key persons, including those who may perform services under this contract. Staff resumes that cover all experience and educational background may be used. All personal information provided will be maintained in confidence as allowed by law. E. Timeline (Gantt chart) indicating implementation schedule and training schedule (if applicable). F. Upon specific request of the County, Consultant shall provide consent and waiver forms permitting County to obtain personal employment/professional qualification information about Consultant who may perform services under this contract from third parties, and releasing third parties from any and all liability for disclosing such information to County. Please note that this is a Request for Proposal. A detailed cost proposal is not being requested. Final project costs will be determined through negotiations with the selected firm. If project cost negotiations with the selected firm are unsuccessful, the County reserves the right to enter into negotiations with other firm(s). All cost proposals must conform to Caltrans Exhibit 10-H. XII. RESERVED XIII. RESERVED XIV. CONTRACT A. Time is of the essence in awarding the contract. The County reserves the right to cancel any intent to award and proceed to the next Consultant if the selected Consultant has not signed the agreement within two weeks after the notification of intent of award. B. Execution of Contract 1. Upon the acceptance of a Consultant's Proposal, Consultant’s Detailed Cost proposal, and successful negotiations, County will prepare and submit a contract to the successful Consultant for signature. (See Sample Contract which contains required contractual language.) In the event that the successful Consultant fails, neglects or refuses to execute the contract within a specified number of days after receiving a copy of the contract from County, County may at its option terminate and cancel its action in awarding the contract and the contract shall become null and void and of no effect. 2. Incorporated by reference into the contract which is to be entered into by County and the successful Consultant pursuant to this Proposal will be (a) all of the information presented in or with this Proposal and the Consultant's response thereto, and (b) all written communications between County and the successful Consultant whose Proposal is accepted. C. No Assignment Assignment by the successful Consultant to any third party of any contract based on the Proposal or any monies due shall be absolutely prohibited and will not be recognized by County unless approved in advance by County in writing. D. Force Majeure Neither party shall be liable to the other for any failure or delay in rendering performance arising out of causes beyond its control and without its fault or negligence. Such causes may include, but not be limited to, acts of God or the public enemy, freight embargoes, and unusually severe weather; but the failure or delay must be beyond its control and without its fault or negligence. Dates or times of performance will be extended to the extent of delays excused by this section, provided that the party whose performance is affected notifies the other promptly of the existence and nature of such delay. E. Payment This contract will be paid at Actual Cost plus Fixed Fee. XV. REJECTION OF PROPOSALS The Request for Proposal does not commit the County to award of a contract, to pay any costs incurred in the preparation of the proposal to this request, or to procure or contract for services or supplies. The County reserves the right to accept or reject any or all proposals received as a result of this request, to negotiate with any qualified source, or to cancel the Request for Proposal in part or in its entirety, if it is in the best interest of the County to do so. The County may require the proposer selected to participate in negotiations, and to submit such proposal as may result from negotiations. Any proposal submitted during this Request for Proposal process becomes the property of the County. The County will not be liable for nor pay costs incurred by the respondent in the preparation of a response to this Request for Proposal or any other costs involved including travel. The selected Consultant will be required to obtain a County business license if not already held. XVI. GENERAL CONDITIONS While the intent of the County is to award the contract to the selected Consultant, it reserves the right to both either withdraw and/or not award a contract at any time it so desires. Costs incurred in the preparation of response to this Request for Proposal will not be reimbursed. The County has a standard contract service agreement. The successful firm will be required to agree to the terms contained within. Any issues with the insurance coverage should be mentioned in the response to the Request for Proposals. Limitations: A. The Consultant should expect to have access only to the public records and public files of local government agencies in preparing the proposal or reports. The Consultant should not anticipate any compilation; tabulation or analysis of data; definition; opinion etc., unless volunteered by a responsible official of that agency. B. The County has the authority to terminate the contract upon written notice to the Consultant at any time during the period of the contract if the County finds that the Consultant’s performance is not satisfactory. C. Contract payments will be made on the basis of satisfactory performance by the Consultant as determined by the County. Final payment to the Consultant will only be made when the County finds that the work performed by the Consultant to be satisfactory and the final work product and documents submitted meet the tasks of the project and is accepted by the County. XVII. INSURANCE REQUIREMENTS Consultant will be required to furnish to County certificates of insurance evidencing at the minimum the following: A. Comprehensive General Liability: $1,000,000 combined single limit per occurrence for bodily injury, personal injury and property damage. B. Automobile Liability: $1,000,000 combined single limit per accident for bodily injury and property damage. C. Worker's Compensation And Employer's Liability: Worker's compensation limits as required by the labor code of the State of California. D. Professional Liability Insurance (Errors and Omissions) in the amount of $500,000 (minimum). XVIII. LIST OF ATTACHMENTS Attachment A – Proposal Evaluation Form Attachment B – Certificate of Non-collusion Attachment C – Proposal Summary Fact Sheet and Statement of Responsibility Attachment D – Scope of Work LAPM Exhibit 10-I – Notice to Proposers DBE Information LAPM Exhibit 10-O1 – Local Agency Proposer DBE Commitment LAPM Exhibit 10-O2 – Local Agency Contract DBE Commitment LAPM Exhibit 10-K – Consultant Annual Certification of Indirect Costs and Financial Management System (DO NOT SUBMIT WITH PROPOSAL) LAPM Exhibit 10-H1 – Cost Estimate (DO NOT SUBMIT WITH PROPOSAL) ATTACHMENT A County of Mendocino Department of Transportation Reconstruction and Widening of East Side Potter Valley Road – Construction Management Proposal Evaluation Form Consultant Name: Value Score* Notes A. Demonstrated understanding of the work to be done 25 points B. Experience with similar kinds of work 20 points C. Capacity/Ability of agency to complete work 15 points D. Capability of developing innovative or advanced techniques 10 points E. Familiarity with state and federal procedures 10 points F. Demonstrated technical ability 10 points G. Financial responsibility 5 points H. Local presence 5 points I. Performance history w/ organization -5 to 0 pts Evaluation Total (Maximum 100) Evaluated By: Project Manager: Signature: Initial: Date: Date: This proposal will be judged based on service capabilities and experience of the prospective Consultant and all persons who will be providing services under contract. A. Adequacy of the described plan and approach to deliver requested services as described in this RFP. Completeness of response; compliance with RFP; implementation plan & schedule; etc.. B. Relevant experience; experience working with public agencies; etc… C. Organization capacity; staff qualifications; availability of pertinent staff; status of professional certifications; Consultant meets the minimum requirements to provide the service; etc… D. Creative; innovative; techniques; etc… E. Experience working with Federal Aid; experience working with local governments; etc… F. Quality product; competency; etc… G. Ability to deal with payment schedule H. Proximity to County or able to address response time I. Past relationships with the County. *Overall ranking based on Evaluator’s final rankings, not raw scores. ATTACHMENT B County of Mendocino Department of Transportation Reconstruction and Widening of East Side Potter Valley Road – Construction Management Certificate of Non-Collusion The undersigned certifies, under penalty of perjury, that this proposal has been made in good faith and without collusion or fraud with any other person. As used in this certification, the word “person” shall mean any natural person, business, partnership, corporation, union, committee, club or other organization, entity or group of individuals. Printed Name of Authorised Representative Signature Date ATTACHMENT C County of Mendocino Department of Transportation Reconstruction and Widening of East Side Potter Valley Road – Construction Management Proposal Summary Fact Sheet and Statement of Responsibility 1. Applicant Firm Name: 2. Executive Director: 3. Contact Person: 4. Title: 5. Address 6. Email address: 7. Telephone Number: 8. Authorized Representative’s Signature: 9. Name and Title: Certifications: 10. Are you incorporated? YES NO If YES, date of incorporation: State of incorporation: 11. Tax Identification Number: Please list the official name of the firm as submitted to the IRS: 12. Fictitious name or names, if any, under which you are doing business: 13. Do you agree to comply with specifications, Request for Proposal instructions, draft contract requirements and other pertinent references contained in this Request for Proposal? YES NO 14. Do you agree that the proposal will stand firm and will not be withdrawn for a period of 45 days after the proposal is opened? YES NO 15. Do you certify that all statements in the proposal are true? This shall constitute a warranty, the falsity of which shall entitle the County to pursue any remedy authorized by law, and shall include the right, at the option of the County, of declaring any contract made as a result thereof to be void. YES NO 16. Do you agree to provide the County with any other information the County determines is necessary for accurate determination of your qualifications to provide services? YES NO 17. Do you agree that the proposal amount includes all costs incident to the proposed contract? YES NO To the best of my knowledge and belief, the information provided in this initial determination of responsibilities is true and correct. Printed Name of Authorised Representative Signature Date ATTACHMENT D County of Mendocino Department of Transportation Reconstruction and Widening of East Side Potter Valley Road – Construction Management SCOPE OF WORK In general, this scope of work consists of CONSULTANT providing COUNTY, as requested, with construction management services, contract administration and observation, survey spot verification of COUNTY’s Contractor’s (CONTRACTOR) staking and layout, and materials testing for the East Side Potter Valley Road Widening and Reconstruction Project. In general, this project consists of realigning and reconstruction of the two-lane road including replacing culverts and curb-gutter/sidewalk construction. This Scope of Services is based on CONSULTANT’S current understanding of the project and the following assumptions:  Construction is anticipated to start in June 2021 and in December 2021. CONTRACTOR will be given 145 working days (one season) to complete the project. COUNTY has assumed that there will be minimal non-working days caused by weather or other elements during the contract.  CONTRACTOR will be working normal shifts throughout the project (little overtime is anticipated). COUNTY anticipates that CONTRACTOR is experienced with this type of work and will diligently pursue timely completion of the project.  Major construction operations are anticipated to include: Stage construction Construction of curb/gutter/sidewalk Excavation of rock outcroppings Replacing culverts, including headwalls Construct small retaining walls by culverts Roadway base and pavement TASK 1 Project Management and Coordination Project Management and Coordination will include the following subtasks: Task 1.1 Project Initiation Preconstruction Conference - CONSULTANT will assist COUNTY, as requested, with preconstruction-related tasks. Task 1.2 Coordination 1.2.1 Point of Contact – The below listed individuals will be the points of contact for maintaining liaison and coordination throughout the project with COUNTY’s Project Manager and other team leaders.  County staff, Bill Wood, as Resident Engineer, is responsible for day-to-day administration and observation of COUNTY’s contractor during construction and will be responsible for any and all decisions regarding changes or materials' suitability.  Consultant staff, Name, will be the primary point of contact. 1.2.2 Project Title – In reference to the project in any forms or formal written materials, CONSULTANT shall use the project title of: Widening and reconstruction of East Side Potter Valley Road. 1.2.3 Project Long Description – In reference to the project in any forms or formal written materials, CONSULTANT shall use the long project description of: Widening and reconstruction of East Side Potter Valley Road. 1.2.4 Project Short Description – In e-mails and on forms with restricted space, CONSULTANT shall use the short project description of: ESPV Road Reconstruction. 1.2.5 Project Coordination with County – CONSULTANT will coordinate with the COUNTY through phone conversations, emails, written memoranda, fax etc. 1.2.6 Invoices – CONSULTANT will prepare periodic invoices providing a summary of CONSULTANT’S work, including covered dates of service, and copies of invoices from any sub-consultants. Invoices shall include the County’s project number and consultant agreement number. Invoices shall be consistent with the Local Assistance Procedures Manual, Chapter 10, Section 10.8 under “Invoicing (or Progress Payments)”. Should one contract include several projects, separate invoices shall be issued for each project. Consultant must have incurred all costs included on an invoice before seeking reimbursement from County. Prepayments are not allowed. The complete chain of charges through the sub- consultant levels must follow through to the invoice to COUNTY. Restaurant charges etc. shall be itemized. Invoices with just a total will be rejected. COUNTY uses the Caltrans Consultant/Contractor Travel Policy for reimbursements for travel expenses. If an expense report is used, values on the report must match the receipts and on up the line. Items on a receipt not listed for reimbursement must be crossed out and initialed by the consultant seeking the reimbursement and the new total noted. Any re-submitted invoice shall be given a new invoice date. The same invoice number and date shall appear on each page of the invoice. All charges accumulated within the COUNTY’s fiscal year, 1 July through 30 June, not previously invoiced, shall be invoiced, and received by COUNTY, by the second Friday of July. A sample invoice is given in Consultant Agreement Exhibit B. This format is to be used for all invoices, including subconsultants. Cover letters, project updates etc. may be included with the invoice but not stapled to it. TASK 2 Surveying and Mapping CONSULTANT will provide survey verification of critical layouts and elevations. Typical verification may include:  Survey Control  Alignment changes  Edge of roadway  Other locations as required. TASK 3 Utility & Right of Way Co-ordination 4.1 Property Owner Co-ordination – All construction on or near private property will be carried out in accordance with the plans, specifications and any Right of Way agreements between the property owners and COUNTY. 4.2 Utility Co-ordination – Utilities pass through this construction site. PG&E and AT&T have moved their facilities out of the conflict area, so coordination should be minimal. TASK 4 Labor Compliance CONSULTANT may assist COUNTY, as requested, with all Labor Compliance tasks to ensure CONTRACTOR is in compliance with all applicable labor laws. Duties may include:  Monitoring and auditing certified payrolls of theCONTRACTOR’s and subCONTRACTOR’s personnel for prevailing wages;  Review field labor compliance and Equal Employment Opportunity (EEO) interviews (interviews to be performed by COUNTY field staff). TASK 5 Construction Engineering Task 5.1 Construction Field Inspection and Management CONSULTANT will assist COUNTY, as requested, with Construction related tasks. Tasks may include:  Review and recommend authorization or revise/resubmit of shop drawings, demolition plans, contractor work plans, material submittals, or other submittals as requested by COUNTY.  Perform “special inspection” observation of CONTRACTOR’s work with appropriately trained and qualified field staff. Examples include geotechnical, welding, environmental/cultural monitors, or other specialty fields.  Assist COUNTY with interpretation of plans and specifications.  Assist COUNTY with negotiating and preparation of Contract Change Orders.  Other tasks as requested by COUNTY. If, for any reason, COUNTY staff is unable to perform Resident Engineer services and/or daily inspection, an amendment will be made to the agreements for those services to be provided by CONSULTANT. CONSULTANT will hire and coordinate a qualified Archaeologist and Tribal Monitor (2 people) to be onsite during all ground-disturbing activities. TASK 6 Materials Validation Task 6.1 Materials Testing CONSULTANT will perform all materials testing (other than geotechnical testing) in accordance with the Construction Contract documents, Caltrans' standards, and COUNTY’s Quality Assurance Program. Typical tests include:  Compaction Testing  Gradation and Sand Equivalent  Asphalt Concrete (AC) Temperature Readings  AC and concrete batch plant inspections  Hot Mix Asphalt (HMA) coring density  Concrete Compressive Strength  Concrete temperature, slump, air entrainment, etc during concrete placement  Other tests as needed COUNTY staff, with CONSULTANT assistance as requested, will coordinate timely testing and determination of correct testing methods and procedures for bridge and roadway work. COUNTY, with CONSULTANT assistance as requested, will accept or reject materials based on test results. Task 6.2 Materials Source Inspection COUNTY staff, with CONSULTANT assistance as requested, will coordinate source inspection for specialty items. Deliverables  Copies of all test results  Source Inspection Quality Management Plan (SIQMP) TASK 7 Project Construction Closeout (Optional) CONSULTANT may assist COUNTY, as requested, with Post Construction related tasks, such as:  Perform final observation of the project upon completion and provide written certification of substantial conformity with PS&E. Collect all written warranties provided by vendors, manufacturers, and CONTRACTOR.  Compute the final quantities and prepare the final estimate.  Determine over-runs and under-runs and prepare a report of same with explanation of each.  Prepare the Final Invoice, Final Detail Estimate, Change Order Summary, Liquidated Damages/Contractors’ Claims Report, Materials Certification, Report of Completion, and such other forms and reports as may be required.  Provide the original set of the project records, including inspections reports, summaries, testing documentation, meeting minutes, RFIs, schedules, correspondence, maps, plans, photo record, shop drawings, submittals, and manufacturers literature. An electronic copy of the project computer files will also be provided.  Assist COUNTY with post-completion dispute resolution. SERVICES TO BE PROVIDED BY COUNTY  COUNTY will provide a responsible In-charge Inspector and Resident Engineer.  COUNTY will provide construction management, administration, and inspection for the project. [END OF SCOPE OF WORK]\n"
          ]
        }
      ],
      "source": [
        "doc_tst_c = load_model_lg(doc_tst_A)\n",
        "print(len(doc_tst_c))\n",
        "print(f\"FINAL_:\\n{doc_tst_c}\")"
      ]
    },
    {
      "cell_type": "code",
      "execution_count": null,
      "metadata": {
        "colab": {
          "base_uri": "https://localhost:8080/"
        },
        "id": "ibfmk5-Ql_Id",
        "outputId": "20b85bc6-d3e7-47b3-9b23-284f5b839737"
      },
      "outputs": [
        {
          "output_type": "stream",
          "name": "stdout",
          "text": [
            "Ocurnc_NO: 1\n",
            "\n",
            " NER_label :  DATE \n",
            " ENT_txt :  210030            \n",
            "\n",
            " ent_st : 10   \n",
            " ent_end : 11   \n",
            "\n",
            " cont_sent_start_p :  0    \n",
            " cont_sent_end_p :  54   \n",
            "\n",
            " contained_sentence :   MENDOCINO COUNTY DEPARTMENT OF TRANSPORTATION REQUEST FOR PROPOSAL CONTRACT 210030 RECONSTRUCTION AND WIDENING OF EAST SIDE POTTER VALLEY ROAD PROJECT (CR 240) CONSTRUCTION MANAGEMENT DOT PROJECT C980703 I. INTRODUCTION Mendocino County Department of Transportation requires the services of Professional Construction Engineering firms to provide construction engineering and project management services.\n",
            "\n",
            "\n",
            "\n",
            "Ocurnc_NO: 2\n",
            "\n",
            " NER_label :  DATE \n",
            " ENT_txt :  95482-9432        \n",
            "\n",
            " ent_st : 413  \n",
            " ent_end : 416  \n",
            "\n",
            " cont_sent_start_p :  379  \n",
            " cont_sent_end_p :  429  \n",
            "\n",
            " contained_sentence :  Proposals must be enclosed in a sealed envelope or package, clearly marked “ESPV Road Reconstruction” and delivered to: Mendocino County Department of Transportation 340 Lake Mendocino Drive Ukiah, CA 95482-9432 Attn: Bill Wood Late or facsimile proposals will not be accepted.\n",
            "\n",
            "\n",
            "\n",
            "Ocurnc_NO: 3\n",
            "\n",
            " NER_label :  TIME \n",
            " ENT_txt :  hour              \n",
            "\n",
            " ent_st : 456  \n",
            " ent_end : 457  \n",
            "\n",
            " cont_sent_start_p :  429  \n",
            " cont_sent_end_p :  459  \n",
            "\n",
            " contained_sentence :  It is the proposer’s responsibility to assure that his proposal is delivered and received at the location specified herein, on or before the date and hour set.\n",
            "\n",
            "\n",
            "\n",
            "Ocurnc_NO: 4\n",
            "\n",
            " NER_label :  DATE \n",
            " ENT_txt :  May 11, 2021      \n",
            "\n",
            " ent_st : 492  \n",
            " ent_end : 496  \n",
            "\n",
            " cont_sent_start_p :  489  \n",
            " cont_sent_end_p :  499  \n",
            "\n",
            " contained_sentence :  Submittal Deadline: May 11, 2021 by 2:00 P.M.\n",
            "\n",
            "\n",
            "\n",
            "Ocurnc_NO: 5\n",
            "\n",
            " NER_label :  TIME \n",
            " ENT_txt :  2:00 P.M.         \n",
            "\n",
            " ent_st : 497  \n",
            " ent_end : 499  \n",
            "\n",
            " cont_sent_start_p :  489  \n",
            " cont_sent_end_p :  499  \n",
            "\n",
            " contained_sentence :  Submittal Deadline: May 11, 2021 by 2:00 P.M.\n",
            "\n",
            "\n",
            "\n",
            "Ocurnc_NO: 6\n",
            "\n",
            " NER_label :  DATE \n",
            " ENT_txt :  at least 45 days  \n",
            "\n",
            " ent_st : 625  \n",
            " ent_end : 629  \n",
            "\n",
            " cont_sent_start_p :  614  \n",
            " cont_sent_end_p :  634  \n",
            "\n",
            " contained_sentence :  E. All proposals will remain in effect and legally binding for at least 45 days from the opening date.\n",
            "\n",
            "\n",
            "\n",
            "Ocurnc_NO: 7\n",
            "\n",
            " NER_label :  DATE \n",
            " ENT_txt :  Sundays           \n",
            "\n",
            " ent_st : 747  \n",
            " ent_end : 748  \n",
            "\n",
            " cont_sent_start_p :  735  \n",
            " cont_sent_end_p :  755  \n",
            "\n",
            " contained_sentence :  H. Time when stated as a number of days, shall include Sundays through Saturdays, excluding legal holidays.\n",
            "\n",
            "\n",
            "\n",
            "Ocurnc_NO: 8\n",
            "\n",
            " NER_label :  DATE \n",
            " ENT_txt :  Saturdays         \n",
            "\n",
            " ent_st : 749  \n",
            " ent_end : 750  \n",
            "\n",
            " cont_sent_start_p :  735  \n",
            " cont_sent_end_p :  755  \n",
            "\n",
            " contained_sentence :  H. Time when stated as a number of days, shall include Sundays through Saturdays, excluding legal holidays.\n",
            "\n",
            "\n",
            "\n",
            "Ocurnc_NO: 9\n",
            "\n",
            " NER_label :  DATE \n",
            " ENT_txt :  May 4, 2021       \n",
            "\n",
            " ent_st : 1016 \n",
            " ent_end : 1020 \n",
            "\n",
            " cont_sent_start_p :  1007 \n",
            " cont_sent_end_p :  1059 \n",
            "\n",
            " contained_sentence :  Scheduled Activity Proposed Date Final Date Written Questions Accepted May 4, 2021 Request for Proposal Submission Deadline May 11, 2021 Final Selection and Notification May 13, 2021 Begin Cost Negotiations Date May 14, 2021 Contract Execution June 22, 2021 Begin Work June 23, 2021 VII.\n",
            "\n",
            "\n",
            "\n",
            "Ocurnc_NO: 10\n",
            "\n",
            " NER_label :  DATE \n",
            " ENT_txt :  May 11            \n",
            "\n",
            " ent_st : 1025 \n",
            " ent_end : 1027 \n",
            "\n",
            " cont_sent_start_p :  1007 \n",
            " cont_sent_end_p :  1059 \n",
            "\n",
            " contained_sentence :  Scheduled Activity Proposed Date Final Date Written Questions Accepted May 4, 2021 Request for Proposal Submission Deadline May 11, 2021 Final Selection and Notification May 13, 2021 Begin Cost Negotiations Date May 14, 2021 Contract Execution June 22, 2021 Begin Work June 23, 2021 VII.\n",
            "\n",
            "\n",
            "\n",
            "Ocurnc_NO: 11\n",
            "\n",
            " NER_label :  DATE \n",
            " ENT_txt :  2021              \n",
            "\n",
            " ent_st : 1028 \n",
            " ent_end : 1029 \n",
            "\n",
            " cont_sent_start_p :  1007 \n",
            " cont_sent_end_p :  1059 \n",
            "\n",
            " contained_sentence :  Scheduled Activity Proposed Date Final Date Written Questions Accepted May 4, 2021 Request for Proposal Submission Deadline May 11, 2021 Final Selection and Notification May 13, 2021 Begin Cost Negotiations Date May 14, 2021 Contract Execution June 22, 2021 Begin Work June 23, 2021 VII.\n",
            "\n",
            "\n",
            "\n",
            "Ocurnc_NO: 12\n",
            "\n",
            " NER_label :  DATE \n",
            " ENT_txt :  May 13, 2021      \n",
            "\n",
            " ent_st : 1033 \n",
            " ent_end : 1037 \n",
            "\n",
            " cont_sent_start_p :  1007 \n",
            " cont_sent_end_p :  1059 \n",
            "\n",
            " contained_sentence :  Scheduled Activity Proposed Date Final Date Written Questions Accepted May 4, 2021 Request for Proposal Submission Deadline May 11, 2021 Final Selection and Notification May 13, 2021 Begin Cost Negotiations Date May 14, 2021 Contract Execution June 22, 2021 Begin Work June 23, 2021 VII.\n",
            "\n",
            "\n",
            "\n",
            "Ocurnc_NO: 13\n",
            "\n",
            " NER_label :  DATE \n",
            " ENT_txt :  May 14, 2021      \n",
            "\n",
            " ent_st : 1041 \n",
            " ent_end : 1045 \n",
            "\n",
            " cont_sent_start_p :  1007 \n",
            " cont_sent_end_p :  1059 \n",
            "\n",
            " contained_sentence :  Scheduled Activity Proposed Date Final Date Written Questions Accepted May 4, 2021 Request for Proposal Submission Deadline May 11, 2021 Final Selection and Notification May 13, 2021 Begin Cost Negotiations Date May 14, 2021 Contract Execution June 22, 2021 Begin Work June 23, 2021 VII.\n",
            "\n",
            "\n",
            "\n",
            "Ocurnc_NO: 14\n",
            "\n",
            " NER_label :  DATE \n",
            " ENT_txt :  June 22, 2021     \n",
            "\n",
            " ent_st : 1047 \n",
            " ent_end : 1051 \n",
            "\n",
            " cont_sent_start_p :  1007 \n",
            " cont_sent_end_p :  1059 \n",
            "\n",
            " contained_sentence :  Scheduled Activity Proposed Date Final Date Written Questions Accepted May 4, 2021 Request for Proposal Submission Deadline May 11, 2021 Final Selection and Notification May 13, 2021 Begin Cost Negotiations Date May 14, 2021 Contract Execution June 22, 2021 Begin Work June 23, 2021 VII.\n",
            "\n",
            "\n",
            "\n",
            "Ocurnc_NO: 15\n",
            "\n",
            " NER_label :  DATE \n",
            " ENT_txt :  June 23, 2021     \n",
            "\n",
            " ent_st : 1053 \n",
            " ent_end : 1057 \n",
            "\n",
            " cont_sent_start_p :  1007 \n",
            " cont_sent_end_p :  1059 \n",
            "\n",
            " contained_sentence :  Scheduled Activity Proposed Date Final Date Written Questions Accepted May 4, 2021 Request for Proposal Submission Deadline May 11, 2021 Final Selection and Notification May 13, 2021 Begin Cost Negotiations Date May 14, 2021 Contract Execution June 22, 2021 Begin Work June 23, 2021 VII.\n",
            "\n",
            "\n",
            "\n",
            "Ocurnc_NO: 16\n",
            "\n",
            " NER_label :  DATE \n",
            " ENT_txt :  two weeks         \n",
            "\n",
            " ent_st : 2202 \n",
            " ent_end : 2204 \n",
            "\n",
            " cont_sent_start_p :  2175 \n",
            " cont_sent_end_p :  2212 \n",
            "\n",
            " contained_sentence :  The County reserves the right to cancel any intent to award and proceed to the next Consultant if the selected Consultant has not signed the agreement within two weeks after the notification of intent of award.\n",
            "\n",
            "\n",
            "\n",
            "Ocurnc_NO: 17\n",
            "\n",
            " NER_label :  DATE \n",
            " ENT_txt :  45 days           \n",
            "\n",
            " ent_st : 3797 \n",
            " ent_end : 3799 \n",
            "\n",
            " cont_sent_start_p :  3779 \n",
            " cont_sent_end_p :  3805 \n",
            "\n",
            " contained_sentence :  Do you agree that the proposal will stand firm and will not be withdrawn for a period of 45 days after the proposal is opened?\n",
            "\n",
            "\n",
            "\n",
            "Ocurnc_NO: 18\n",
            "\n",
            " NER_label :  DATE \n",
            " ENT_txt :  June 2021         \n",
            "\n",
            " ent_st : 4083 \n",
            " ent_end : 4085 \n",
            "\n",
            " cont_sent_start_p :  4057 \n",
            " cont_sent_end_p :  4090 \n",
            "\n",
            " contained_sentence :  This Scope of Services is based on CONSULTANT’S current understanding of the project and the following assumptions:  Construction is anticipated to start in June 2021 and in December 2021.\n",
            "\n",
            "\n",
            "\n",
            "Ocurnc_NO: 19\n",
            "\n",
            " NER_label :  DATE \n",
            " ENT_txt :  December 2021     \n",
            "\n",
            " ent_st : 4087 \n",
            " ent_end : 4089 \n",
            "\n",
            " cont_sent_start_p :  4057 \n",
            " cont_sent_end_p :  4090 \n",
            "\n",
            " contained_sentence :  This Scope of Services is based on CONSULTANT’S current understanding of the project and the following assumptions:  Construction is anticipated to start in June 2021 and in December 2021.\n",
            "\n",
            "\n",
            "\n",
            "Ocurnc_NO: 20\n",
            "\n",
            " NER_label :  DATE \n",
            " ENT_txt :  one season        \n",
            "\n",
            " ent_st : 4098 \n",
            " ent_end : 4100 \n",
            "\n",
            " cont_sent_start_p :  4090 \n",
            " cont_sent_end_p :  4106 \n",
            "\n",
            " contained_sentence :  CONTRACTOR will be given 145 working days (one season) to complete the project.\n",
            "\n",
            "\n",
            "\n",
            "Ocurnc_NO: 21\n",
            "\n",
            " NER_label :  DATE \n",
            " ENT_txt :  non-working days  \n",
            "\n",
            " ent_st : 4114 \n",
            " ent_end : 4118 \n",
            "\n",
            " cont_sent_start_p :  4106 \n",
            " cont_sent_end_p :  4128 \n",
            "\n",
            " contained_sentence :  COUNTY has assumed that there will be minimal non-working days caused by weather or other elements during the contract.\n",
            "\n",
            "\n",
            "\n",
            "Ocurnc_NO: 22\n",
            "\n",
            " NER_label :  DATE \n",
            " ENT_txt :  fiscal year       \n",
            "\n",
            " ent_st : 4700 \n",
            " ent_end : 4702 \n",
            "\n",
            " cont_sent_start_p :  4693 \n",
            " cont_sent_end_p :  4729 \n",
            "\n",
            " contained_sentence :  All charges accumulated within the COUNTY’s fiscal year, 1 July through 30 June, not previously invoiced, shall be invoiced, and received by COUNTY, by the second Friday of July.\n",
            "\n",
            "\n",
            "\n",
            "Ocurnc_NO: 23\n",
            "\n",
            " NER_label :  DATE \n",
            " ENT_txt :  1 July through    \n",
            "\n",
            " ent_st : 4703 \n",
            " ent_end : 4706 \n",
            "\n",
            " cont_sent_start_p :  4693 \n",
            " cont_sent_end_p :  4729 \n",
            "\n",
            " contained_sentence :  All charges accumulated within the COUNTY’s fiscal year, 1 July through 30 June, not previously invoiced, shall be invoiced, and received by COUNTY, by the second Friday of July.\n",
            "\n",
            "\n",
            "\n",
            "Ocurnc_NO: 24\n",
            "\n",
            " NER_label :  DATE \n",
            " ENT_txt :  30 June           \n",
            "\n",
            " ent_st : 4706 \n",
            " ent_end : 4708 \n",
            "\n",
            " cont_sent_start_p :  4693 \n",
            " cont_sent_end_p :  4729 \n",
            "\n",
            " contained_sentence :  All charges accumulated within the COUNTY’s fiscal year, 1 July through 30 June, not previously invoiced, shall be invoiced, and received by COUNTY, by the second Friday of July.\n",
            "\n",
            "\n",
            "\n",
            "Ocurnc_NO: 25\n",
            "\n",
            " NER_label :  DATE \n",
            " ENT_txt :  the second Friday of July\n",
            "\n",
            " ent_st : 4723 \n",
            " ent_end : 4728 \n",
            "\n",
            " cont_sent_start_p :  4693 \n",
            " cont_sent_end_p :  4729 \n",
            "\n",
            " contained_sentence :  All charges accumulated within the COUNTY’s fiscal year, 1 July through 30 June, not previously invoiced, shall be invoiced, and received by COUNTY, by the second Friday of July.\n",
            "\n",
            "\n",
            "\n",
            "Ocurnc_NO: 26\n",
            "\n",
            " NER_label :  TIME \n",
            " ENT_txt :  minutes           \n",
            "\n",
            " ent_st : 5474 \n",
            " ent_end : 5475 \n",
            "\n",
            " cont_sent_start_p :  5454 \n",
            " cont_sent_end_p :  5498 \n",
            "\n",
            " contained_sentence :   Provide the original set of the project records, including inspections reports, summaries, testing documentation, meeting minutes, RFIs, schedules, correspondence, maps, plans, photo record, shop drawings, submittals, and manufacturers literature.\n",
            "\n",
            "\n",
            "\n"
          ]
        }
      ],
      "source": [
        "#Deadline_Date__&__other_date_time_events_extraction\n",
        "#with_entity_labels\n",
        "#with_entity_start_end_index\n",
        "#with_date_time_entity_start_end_index\n",
        "#with_strt_end__index_of_date_info_sentences\n",
        "\n",
        "idx=1\n",
        "for ent in (doc_tst_c.ents):\n",
        "  if( (ent.label_==\"DATE\") or (ent.label_==\"TIME\")):\n",
        "  #if(  ( ent.label_== ( (\"DATE\") and (\"TIME\") ) ) ):  \n",
        "    # Print ONLY Date OR Time entity text and label along with contained sentence \n",
        "      print( f\"Ocurnc_NO: {(idx)}\\n\\n NER_label :  { ent.label_ :<5}\\n ENT_txt :  {ent.text :<18}\\n\\n ent_st : {ent.start :<5}\\n ent_end : {ent.end :<5}\\n\\n cont_sent_start_p :  {ent.sent.start :<5}\\n cont_sent_end_p :  {ent.sent.end :<5}\\n\\n contained_sentence :  {ent.sent}\\n\\n\\n\")\n",
        "      idx+=1"
      ]
    },
    {
      "cell_type": "code",
      "execution_count": null,
      "metadata": {
        "colab": {
          "base_uri": "https://localhost:8080/"
        },
        "id": "daS_YSBPWb35",
        "outputId": "0ce6f0c3-0c1c-4714-a996-61cfc169a833"
      },
      "outputs": [
        {
          "output_type": "stream",
          "name": "stdout",
          "text": [
            "Proposal Submission Deadline May 11, 2021\n"
          ]
        }
      ],
      "source": [
        "print(doc_tst_c[1022:1029])"
      ]
    },
    {
      "cell_type": "code",
      "execution_count": null,
      "metadata": {
        "colab": {
          "base_uri": "https://localhost:8080/",
          "height": 35
        },
        "id": "XRMhWEVDBMZ7",
        "outputId": "8dc31d79-1980-48da-939e-4ae54106afaa"
      },
      "outputs": [
        {
          "output_type": "execute_result",
          "data": {
            "text/plain": [
              "''"
            ],
            "application/vnd.google.colaboratory.intrinsic+json": {
              "type": "string"
            }
          },
          "metadata": {},
          "execution_count": 299
        }
      ],
      "source": [
        "s=str()\n",
        "s.lstrip('_')"
      ]
    }
  ],
  "metadata": {
    "colab": {
      "name": "DataSet_preparations(FINAL).ipynb",
      "provenance": []
    },
    "kernelspec": {
      "display_name": "Python 3",
      "name": "python3"
    },
    "language_info": {
      "name": "python"
    }
  },
  "nbformat": 4,
  "nbformat_minor": 0
}